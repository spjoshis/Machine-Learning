{
 "cells": [
  {
   "cell_type": "code",
   "execution_count": null,
   "metadata": {},
   "outputs": [],
   "source": [
    "%tensorflow_version 2.x  # this line is not required unless you are in a notebook"
   ]
  },
  {
   "cell_type": "code",
   "execution_count": 1,
   "metadata": {},
   "outputs": [],
   "source": [
    "# Import libraries\n",
    "\n",
    "from __future__ import absolute_import, division, print_function, unicode_literals\n",
    "import tensorflow as tf\n",
    "import pandas as pd"
   ]
  },
  {
   "cell_type": "markdown",
   "metadata": {},
   "source": [
    "### Dataset\n",
    "This specific dataset seperates flowers into 3 different classes of species.\n",
    "- Setosa\n",
    "- Versicolor\n",
    "- Virginica\n",
    "\n",
    "The information about each flower is the following.\n",
    "- sepal length\n",
    "- sepal width\n",
    "- petal length\n",
    "- petal width"
   ]
  },
  {
   "cell_type": "code",
   "execution_count": 2,
   "metadata": {},
   "outputs": [],
   "source": [
    "# Lets define some constants to help us later on\n",
    "\n",
    "CSV_COLUMN_NAMES = ['SepalLength', 'SepalWidth', 'PetalLength', 'PetalWidth', 'Species']\n",
    "SPECIES = ['Setosa', 'Versicolor', 'Virginica']"
   ]
  },
  {
   "cell_type": "code",
   "execution_count": 3,
   "metadata": {},
   "outputs": [
    {
     "name": "stdout",
     "output_type": "stream",
     "text": [
      "Downloading data from https://storage.googleapis.com/download.tensorflow.org/data/iris_training.csv\n",
      "16384/2194 [================================================================================================================================================================================================================================] - 0s 0s/step\n",
      "Downloading data from https://storage.googleapis.com/download.tensorflow.org/data/iris_test.csv\n",
      "16384/573 [=========================================================================================================================================================================================================================================================================================================================================================================================================================================================================================================================================================================================================================================================================================================================================================================================================================================================================================] - 0s 0s/step\n"
     ]
    }
   ],
   "source": [
    "# Here we use keras (a module inside of TensorFlow) to grab our datasets and read them into a pandas dataframe\n",
    "\n",
    "train_path = tf.keras.utils.get_file(\n",
    "    \"iris_training.csv\", \"https://storage.googleapis.com/download.tensorflow.org/data/iris_training.csv\")\n",
    "test_path = tf.keras.utils.get_file(\n",
    "    \"iris_test.csv\", \"https://storage.googleapis.com/download.tensorflow.org/data/iris_test.csv\")\n",
    "\n",
    "train = pd.read_csv(train_path, names=CSV_COLUMN_NAMES, header=0)\n",
    "test = pd.read_csv(test_path, names=CSV_COLUMN_NAMES, header=0)\n"
   ]
  },
  {
   "cell_type": "code",
   "execution_count": 6,
   "metadata": {},
   "outputs": [
    {
     "data": {
      "text/html": [
       "<div>\n",
       "<style scoped>\n",
       "    .dataframe tbody tr th:only-of-type {\n",
       "        vertical-align: middle;\n",
       "    }\n",
       "\n",
       "    .dataframe tbody tr th {\n",
       "        vertical-align: top;\n",
       "    }\n",
       "\n",
       "    .dataframe thead th {\n",
       "        text-align: right;\n",
       "    }\n",
       "</style>\n",
       "<table border=\"1\" class=\"dataframe\">\n",
       "  <thead>\n",
       "    <tr style=\"text-align: right;\">\n",
       "      <th></th>\n",
       "      <th>SepalLength</th>\n",
       "      <th>SepalWidth</th>\n",
       "      <th>PetalLength</th>\n",
       "      <th>PetalWidth</th>\n",
       "      <th>Species</th>\n",
       "    </tr>\n",
       "  </thead>\n",
       "  <tbody>\n",
       "    <tr>\n",
       "      <th>0</th>\n",
       "      <td>6.4</td>\n",
       "      <td>2.8</td>\n",
       "      <td>5.6</td>\n",
       "      <td>2.2</td>\n",
       "      <td>2</td>\n",
       "    </tr>\n",
       "    <tr>\n",
       "      <th>1</th>\n",
       "      <td>5.0</td>\n",
       "      <td>2.3</td>\n",
       "      <td>3.3</td>\n",
       "      <td>1.0</td>\n",
       "      <td>1</td>\n",
       "    </tr>\n",
       "    <tr>\n",
       "      <th>2</th>\n",
       "      <td>4.9</td>\n",
       "      <td>2.5</td>\n",
       "      <td>4.5</td>\n",
       "      <td>1.7</td>\n",
       "      <td>2</td>\n",
       "    </tr>\n",
       "    <tr>\n",
       "      <th>3</th>\n",
       "      <td>4.9</td>\n",
       "      <td>3.1</td>\n",
       "      <td>1.5</td>\n",
       "      <td>0.1</td>\n",
       "      <td>0</td>\n",
       "    </tr>\n",
       "    <tr>\n",
       "      <th>4</th>\n",
       "      <td>5.7</td>\n",
       "      <td>3.8</td>\n",
       "      <td>1.7</td>\n",
       "      <td>0.3</td>\n",
       "      <td>0</td>\n",
       "    </tr>\n",
       "  </tbody>\n",
       "</table>\n",
       "</div>"
      ],
      "text/plain": [
       "   SepalLength  SepalWidth  PetalLength  PetalWidth  Species\n",
       "0          6.4         2.8          5.6         2.2        2\n",
       "1          5.0         2.3          3.3         1.0        1\n",
       "2          4.9         2.5          4.5         1.7        2\n",
       "3          4.9         3.1          1.5         0.1        0\n",
       "4          5.7         3.8          1.7         0.3        0"
      ]
     },
     "execution_count": 6,
     "metadata": {},
     "output_type": "execute_result"
    }
   ],
   "source": [
    "train.head()"
   ]
  },
  {
   "cell_type": "code",
   "execution_count": 7,
   "metadata": {},
   "outputs": [
    {
     "data": {
      "text/html": [
       "<div>\n",
       "<style scoped>\n",
       "    .dataframe tbody tr th:only-of-type {\n",
       "        vertical-align: middle;\n",
       "    }\n",
       "\n",
       "    .dataframe tbody tr th {\n",
       "        vertical-align: top;\n",
       "    }\n",
       "\n",
       "    .dataframe thead th {\n",
       "        text-align: right;\n",
       "    }\n",
       "</style>\n",
       "<table border=\"1\" class=\"dataframe\">\n",
       "  <thead>\n",
       "    <tr style=\"text-align: right;\">\n",
       "      <th></th>\n",
       "      <th>SepalLength</th>\n",
       "      <th>SepalWidth</th>\n",
       "      <th>PetalLength</th>\n",
       "      <th>PetalWidth</th>\n",
       "      <th>Species</th>\n",
       "    </tr>\n",
       "  </thead>\n",
       "  <tbody>\n",
       "    <tr>\n",
       "      <th>0</th>\n",
       "      <td>5.9</td>\n",
       "      <td>3.0</td>\n",
       "      <td>4.2</td>\n",
       "      <td>1.5</td>\n",
       "      <td>1</td>\n",
       "    </tr>\n",
       "    <tr>\n",
       "      <th>1</th>\n",
       "      <td>6.9</td>\n",
       "      <td>3.1</td>\n",
       "      <td>5.4</td>\n",
       "      <td>2.1</td>\n",
       "      <td>2</td>\n",
       "    </tr>\n",
       "    <tr>\n",
       "      <th>2</th>\n",
       "      <td>5.1</td>\n",
       "      <td>3.3</td>\n",
       "      <td>1.7</td>\n",
       "      <td>0.5</td>\n",
       "      <td>0</td>\n",
       "    </tr>\n",
       "    <tr>\n",
       "      <th>3</th>\n",
       "      <td>6.0</td>\n",
       "      <td>3.4</td>\n",
       "      <td>4.5</td>\n",
       "      <td>1.6</td>\n",
       "      <td>1</td>\n",
       "    </tr>\n",
       "    <tr>\n",
       "      <th>4</th>\n",
       "      <td>5.5</td>\n",
       "      <td>2.5</td>\n",
       "      <td>4.0</td>\n",
       "      <td>1.3</td>\n",
       "      <td>1</td>\n",
       "    </tr>\n",
       "  </tbody>\n",
       "</table>\n",
       "</div>"
      ],
      "text/plain": [
       "   SepalLength  SepalWidth  PetalLength  PetalWidth  Species\n",
       "0          5.9         3.0          4.2         1.5        1\n",
       "1          6.9         3.1          5.4         2.1        2\n",
       "2          5.1         3.3          1.7         0.5        0\n",
       "3          6.0         3.4          4.5         1.6        1\n",
       "4          5.5         2.5          4.0         1.3        1"
      ]
     },
     "execution_count": 7,
     "metadata": {},
     "output_type": "execute_result"
    }
   ],
   "source": [
    "test.head()"
   ]
  },
  {
   "cell_type": "code",
   "execution_count": 8,
   "metadata": {},
   "outputs": [
    {
     "data": {
      "text/html": [
       "<div>\n",
       "<style scoped>\n",
       "    .dataframe tbody tr th:only-of-type {\n",
       "        vertical-align: middle;\n",
       "    }\n",
       "\n",
       "    .dataframe tbody tr th {\n",
       "        vertical-align: top;\n",
       "    }\n",
       "\n",
       "    .dataframe thead th {\n",
       "        text-align: right;\n",
       "    }\n",
       "</style>\n",
       "<table border=\"1\" class=\"dataframe\">\n",
       "  <thead>\n",
       "    <tr style=\"text-align: right;\">\n",
       "      <th></th>\n",
       "      <th>SepalLength</th>\n",
       "      <th>SepalWidth</th>\n",
       "      <th>PetalLength</th>\n",
       "      <th>PetalWidth</th>\n",
       "    </tr>\n",
       "  </thead>\n",
       "  <tbody>\n",
       "    <tr>\n",
       "      <th>0</th>\n",
       "      <td>6.4</td>\n",
       "      <td>2.8</td>\n",
       "      <td>5.6</td>\n",
       "      <td>2.2</td>\n",
       "    </tr>\n",
       "    <tr>\n",
       "      <th>1</th>\n",
       "      <td>5.0</td>\n",
       "      <td>2.3</td>\n",
       "      <td>3.3</td>\n",
       "      <td>1.0</td>\n",
       "    </tr>\n",
       "    <tr>\n",
       "      <th>2</th>\n",
       "      <td>4.9</td>\n",
       "      <td>2.5</td>\n",
       "      <td>4.5</td>\n",
       "      <td>1.7</td>\n",
       "    </tr>\n",
       "    <tr>\n",
       "      <th>3</th>\n",
       "      <td>4.9</td>\n",
       "      <td>3.1</td>\n",
       "      <td>1.5</td>\n",
       "      <td>0.1</td>\n",
       "    </tr>\n",
       "    <tr>\n",
       "      <th>4</th>\n",
       "      <td>5.7</td>\n",
       "      <td>3.8</td>\n",
       "      <td>1.7</td>\n",
       "      <td>0.3</td>\n",
       "    </tr>\n",
       "  </tbody>\n",
       "</table>\n",
       "</div>"
      ],
      "text/plain": [
       "   SepalLength  SepalWidth  PetalLength  PetalWidth\n",
       "0          6.4         2.8          5.6         2.2\n",
       "1          5.0         2.3          3.3         1.0\n",
       "2          4.9         2.5          4.5         1.7\n",
       "3          4.9         3.1          1.5         0.1\n",
       "4          5.7         3.8          1.7         0.3"
      ]
     },
     "execution_count": 8,
     "metadata": {},
     "output_type": "execute_result"
    }
   ],
   "source": [
    "# Remove Species column\n",
    "\n",
    "train_y = train.pop('Species')\n",
    "test_y = test.pop('Species')\n",
    "train.head()"
   ]
  },
  {
   "cell_type": "code",
   "execution_count": 9,
   "metadata": {},
   "outputs": [],
   "source": [
    "# Write simple input function\n",
    "\n",
    "def input_fn(features, labels, training=True, batch_size=256):\n",
    "    '''\n",
    "    Tensorflow input function used in model\n",
    "    '''\n",
    "    # Convert the inputs to a Dataset.\n",
    "    dataset = tf.data.Dataset.from_tensor_slices((dict(features), labels))\n",
    "\n",
    "    # Shuffle and repeat if you are in training mode.\n",
    "    if training:\n",
    "        dataset = dataset.shuffle(1000).repeat()\n",
    "    \n",
    "    return dataset.batch(batch_size)"
   ]
  },
  {
   "cell_type": "code",
   "execution_count": 11,
   "metadata": {},
   "outputs": [
    {
     "name": "stdout",
     "output_type": "stream",
     "text": [
      "[NumericColumn(key='SepalLength', shape=(1,), default_value=None, dtype=tf.float32, normalizer_fn=None), NumericColumn(key='SepalWidth', shape=(1,), default_value=None, dtype=tf.float32, normalizer_fn=None), NumericColumn(key='PetalLength', shape=(1,), default_value=None, dtype=tf.float32, normalizer_fn=None), NumericColumn(key='PetalWidth', shape=(1,), default_value=None, dtype=tf.float32, normalizer_fn=None)]\n"
     ]
    }
   ],
   "source": [
    "# Feature columns describe how to use the input.\n",
    "my_feature_columns = [] # Numeric array\n",
    "for key in train.keys():\n",
    "    my_feature_columns.append(tf.feature_column.numeric_column(key=key))\n",
    "\n",
    "print(my_feature_columns)"
   ]
  },
  {
   "cell_type": "code",
   "execution_count": 12,
   "metadata": {},
   "outputs": [
    {
     "name": "stdout",
     "output_type": "stream",
     "text": [
      "INFO:tensorflow:Using default config.\n",
      "WARNING:tensorflow:Using temporary folder as model directory: C:\\Users\\gopal\\AppData\\Local\\Temp\\tmpiws3yj7i\n",
      "INFO:tensorflow:Using config: {'_model_dir': 'C:\\\\Users\\\\gopal\\\\AppData\\\\Local\\\\Temp\\\\tmpiws3yj7i', '_tf_random_seed': None, '_save_summary_steps': 100, '_save_checkpoints_steps': None, '_save_checkpoints_secs': 600, '_session_config': allow_soft_placement: true\n",
      "graph_options {\n",
      "  rewrite_options {\n",
      "    meta_optimizer_iterations: ONE\n",
      "  }\n",
      "}\n",
      ", '_keep_checkpoint_max': 5, '_keep_checkpoint_every_n_hours': 10000, '_log_step_count_steps': 100, '_train_distribute': None, '_device_fn': None, '_protocol': None, '_eval_distribute': None, '_experimental_distribute': None, '_experimental_max_worker_delay_secs': None, '_session_creation_timeout_secs': 7200, '_checkpoint_save_graph_def': True, '_service': None, '_cluster_spec': ClusterSpec({}), '_task_type': 'worker', '_task_id': 0, '_global_id_in_cluster': 0, '_master': '', '_evaluation_master': '', '_is_chief': True, '_num_ps_replicas': 0, '_num_worker_replicas': 1}\n"
     ]
    }
   ],
   "source": [
    "# Build a DNN with 2 hidden layers with 30 and 10 hidden nodes each.\n",
    "classifier = tf.estimator.DNNClassifier(feature_columns=my_feature_columns, hidden_units=[30, 10], n_classes=3)"
   ]
  },
  {
   "cell_type": "markdown",
   "metadata": {},
   "source": [
    "### Training\n",
    "Now it's time to train the model!"
   ]
  },
  {
   "cell_type": "code",
   "execution_count": 13,
   "metadata": {},
   "outputs": [
    {
     "name": "stdout",
     "output_type": "stream",
     "text": [
      "WARNING:tensorflow:From C:\\Users\\gopal\\AppData\\Local\\Programs\\Python\\Python38\\Lib\\site-packages\\tensorflow\\python\\training\\training_util.py:235: Variable.initialized_value (from tensorflow.python.ops.variables) is deprecated and will be removed in a future version.\n",
      "Instructions for updating:\n",
      "Use Variable.read_value. Variables in 2.X are initialized automatically both in eager and graph (inside tf.defun) contexts.\n",
      "INFO:tensorflow:Calling model_fn.\n",
      "WARNING:tensorflow:From C:\\Users\\gopal\\AppData\\Local\\Programs\\Python\\Python38\\Lib\\site-packages\\keras\\optimizer_v2\\adagrad.py:83: calling Constant.__init__ (from tensorflow.python.ops.init_ops) with dtype is deprecated and will be removed in a future version.\n",
      "Instructions for updating:\n",
      "Call initializer instance with the dtype argument instead of passing it to the constructor\n",
      "INFO:tensorflow:Done calling model_fn.\n",
      "INFO:tensorflow:Create CheckpointSaverHook.\n",
      "INFO:tensorflow:Graph was finalized.\n",
      "INFO:tensorflow:Running local_init_op.\n",
      "INFO:tensorflow:Done running local_init_op.\n",
      "INFO:tensorflow:Calling checkpoint listeners before saving checkpoint 0...\n",
      "INFO:tensorflow:Saving checkpoints for 0 into C:\\Users\\gopal\\AppData\\Local\\Temp\\tmpiws3yj7i\\model.ckpt.\n",
      "INFO:tensorflow:Calling checkpoint listeners after saving checkpoint 0...\n",
      "INFO:tensorflow:loss = 2.0057006, step = 0\n",
      "INFO:tensorflow:global_step/sec: 310.538\n",
      "INFO:tensorflow:loss = 1.0509845, step = 100 (0.324 sec)\n",
      "INFO:tensorflow:global_step/sec: 483.293\n",
      "INFO:tensorflow:loss = 0.80206615, step = 200 (0.205 sec)\n",
      "INFO:tensorflow:global_step/sec: 481.943\n",
      "INFO:tensorflow:loss = 0.70544595, step = 300 (0.209 sec)\n",
      "INFO:tensorflow:global_step/sec: 412.519\n",
      "INFO:tensorflow:loss = 0.66065097, step = 400 (0.243 sec)\n",
      "INFO:tensorflow:global_step/sec: 505.159\n",
      "INFO:tensorflow:loss = 0.6244315, step = 500 (0.195 sec)\n",
      "INFO:tensorflow:global_step/sec: 404.404\n",
      "INFO:tensorflow:loss = 0.5956765, step = 600 (0.249 sec)\n",
      "INFO:tensorflow:global_step/sec: 497.922\n",
      "INFO:tensorflow:loss = 0.57382655, step = 700 (0.199 sec)\n",
      "INFO:tensorflow:global_step/sec: 500.13\n",
      "INFO:tensorflow:loss = 0.57319635, step = 800 (0.200 sec)\n",
      "INFO:tensorflow:global_step/sec: 456.917\n",
      "INFO:tensorflow:loss = 0.5558104, step = 900 (0.221 sec)\n",
      "INFO:tensorflow:global_step/sec: 462.444\n",
      "INFO:tensorflow:loss = 0.53901553, step = 1000 (0.216 sec)\n",
      "INFO:tensorflow:global_step/sec: 454.552\n",
      "INFO:tensorflow:loss = 0.52104646, step = 1100 (0.220 sec)\n",
      "INFO:tensorflow:global_step/sec: 508.003\n",
      "INFO:tensorflow:loss = 0.5201797, step = 1200 (0.195 sec)\n",
      "INFO:tensorflow:global_step/sec: 320.722\n",
      "INFO:tensorflow:loss = 0.5122723, step = 1300 (0.316 sec)\n",
      "INFO:tensorflow:global_step/sec: 422.139\n",
      "INFO:tensorflow:loss = 0.49272197, step = 1400 (0.235 sec)\n",
      "INFO:tensorflow:global_step/sec: 444.443\n",
      "INFO:tensorflow:loss = 0.49560854, step = 1500 (0.225 sec)\n",
      "INFO:tensorflow:global_step/sec: 364.967\n",
      "INFO:tensorflow:loss = 0.49246484, step = 1600 (0.274 sec)\n",
      "INFO:tensorflow:global_step/sec: 360.309\n",
      "INFO:tensorflow:loss = 0.50521505, step = 1700 (0.277 sec)\n",
      "INFO:tensorflow:global_step/sec: 440.696\n",
      "INFO:tensorflow:loss = 0.47477013, step = 1800 (0.228 sec)\n",
      "INFO:tensorflow:global_step/sec: 432.403\n",
      "INFO:tensorflow:loss = 0.4757446, step = 1900 (0.228 sec)\n",
      "INFO:tensorflow:global_step/sec: 526.437\n",
      "INFO:tensorflow:loss = 0.4512005, step = 2000 (0.190 sec)\n",
      "INFO:tensorflow:global_step/sec: 499.226\n",
      "INFO:tensorflow:loss = 0.4554381, step = 2100 (0.200 sec)\n",
      "INFO:tensorflow:global_step/sec: 490.8\n",
      "INFO:tensorflow:loss = 0.44683757, step = 2200 (0.206 sec)\n",
      "INFO:tensorflow:global_step/sec: 454.541\n",
      "INFO:tensorflow:loss = 0.4441932, step = 2300 (0.220 sec)\n",
      "INFO:tensorflow:global_step/sec: 434.793\n",
      "INFO:tensorflow:loss = 0.44488677, step = 2400 (0.230 sec)\n",
      "INFO:tensorflow:global_step/sec: 411.518\n",
      "INFO:tensorflow:loss = 0.44350654, step = 2500 (0.243 sec)\n",
      "INFO:tensorflow:global_step/sec: 317.459\n",
      "INFO:tensorflow:loss = 0.43738422, step = 2600 (0.315 sec)\n",
      "INFO:tensorflow:global_step/sec: 446.438\n",
      "INFO:tensorflow:loss = 0.4370989, step = 2700 (0.224 sec)\n",
      "INFO:tensorflow:global_step/sec: 492.7\n",
      "INFO:tensorflow:loss = 0.42304793, step = 2800 (0.203 sec)\n",
      "INFO:tensorflow:global_step/sec: 518.076\n",
      "INFO:tensorflow:loss = 0.42586505, step = 2900 (0.193 sec)\n",
      "INFO:tensorflow:global_step/sec: 465.126\n",
      "INFO:tensorflow:loss = 0.4145141, step = 3000 (0.215 sec)\n",
      "INFO:tensorflow:global_step/sec: 485.291\n",
      "INFO:tensorflow:loss = 0.41496822, step = 3100 (0.206 sec)\n",
      "INFO:tensorflow:global_step/sec: 532.392\n",
      "INFO:tensorflow:loss = 0.40257147, step = 3200 (0.203 sec)\n",
      "INFO:tensorflow:global_step/sec: 413.541\n",
      "INFO:tensorflow:loss = 0.40415567, step = 3300 (0.226 sec)\n",
      "INFO:tensorflow:global_step/sec: 469.483\n",
      "INFO:tensorflow:loss = 0.40489143, step = 3400 (0.214 sec)\n",
      "INFO:tensorflow:global_step/sec: 424.766\n",
      "INFO:tensorflow:loss = 0.39909518, step = 3500 (0.234 sec)\n",
      "INFO:tensorflow:global_step/sec: 433.55\n",
      "INFO:tensorflow:loss = 0.3932312, step = 3600 (0.232 sec)\n",
      "INFO:tensorflow:global_step/sec: 365.204\n",
      "INFO:tensorflow:loss = 0.39723086, step = 3700 (0.273 sec)\n",
      "INFO:tensorflow:global_step/sec: 294.607\n",
      "INFO:tensorflow:loss = 0.38022938, step = 3800 (0.339 sec)\n",
      "INFO:tensorflow:global_step/sec: 452.799\n",
      "INFO:tensorflow:loss = 0.3872581, step = 3900 (0.221 sec)\n",
      "INFO:tensorflow:global_step/sec: 472.707\n",
      "INFO:tensorflow:loss = 0.38443705, step = 4000 (0.210 sec)\n",
      "INFO:tensorflow:global_step/sec: 376.613\n",
      "INFO:tensorflow:loss = 0.3780927, step = 4100 (0.267 sec)\n",
      "INFO:tensorflow:global_step/sec: 430.016\n",
      "INFO:tensorflow:loss = 0.37484843, step = 4200 (0.235 sec)\n",
      "INFO:tensorflow:global_step/sec: 498.552\n",
      "INFO:tensorflow:loss = 0.36154288, step = 4300 (0.198 sec)\n",
      "INFO:tensorflow:global_step/sec: 479.052\n",
      "INFO:tensorflow:loss = 0.3704544, step = 4400 (0.212 sec)\n",
      "INFO:tensorflow:global_step/sec: 512.305\n",
      "INFO:tensorflow:loss = 0.37278843, step = 4500 (0.192 sec)\n",
      "INFO:tensorflow:global_step/sec: 357.941\n",
      "INFO:tensorflow:loss = 0.3590727, step = 4600 (0.282 sec)\n",
      "INFO:tensorflow:global_step/sec: 446.429\n",
      "INFO:tensorflow:loss = 0.35990363, step = 4700 (0.223 sec)\n",
      "INFO:tensorflow:global_step/sec: 478.637\n",
      "INFO:tensorflow:loss = 0.35463938, step = 4800 (0.207 sec)\n",
      "INFO:tensorflow:global_step/sec: 478.802\n",
      "INFO:tensorflow:loss = 0.36391935, step = 4900 (0.211 sec)\n",
      "INFO:tensorflow:Calling checkpoint listeners before saving checkpoint 5000...\n",
      "INFO:tensorflow:Saving checkpoints for 5000 into C:\\Users\\gopal\\AppData\\Local\\Temp\\tmpiws3yj7i\\model.ckpt.\n",
      "INFO:tensorflow:Calling checkpoint listeners after saving checkpoint 5000...\n",
      "INFO:tensorflow:Loss for final step: 0.35409954.\n"
     ]
    },
    {
     "data": {
      "text/plain": [
       "<tensorflow_estimator.python.estimator.canned.dnn.DNNClassifierV2 at 0x12bf195f490>"
      ]
     },
     "execution_count": 13,
     "metadata": {},
     "output_type": "execute_result"
    }
   ],
   "source": [
    "# We include a lambda to avoid creating an inner function previously\n",
    "\n",
    "classifier.train(input_fn=lambda: input_fn(train, train_y, training=True), steps=5000)\n"
   ]
  },
  {
   "cell_type": "code",
   "execution_count": 14,
   "metadata": {},
   "outputs": [
    {
     "name": "stdout",
     "output_type": "stream",
     "text": [
      "INFO:tensorflow:Calling model_fn.\n",
      "INFO:tensorflow:Done calling model_fn.\n",
      "INFO:tensorflow:Starting evaluation at 2021-10-07T11:01:23\n",
      "INFO:tensorflow:Graph was finalized.\n",
      "INFO:tensorflow:Restoring parameters from C:\\Users\\gopal\\AppData\\Local\\Temp\\tmpiws3yj7i\\model.ckpt-5000\n",
      "INFO:tensorflow:Running local_init_op.\n",
      "INFO:tensorflow:Done running local_init_op.\n",
      "INFO:tensorflow:Inference Time : 0.30377s\n",
      "INFO:tensorflow:Finished evaluation at 2021-10-07-11:01:23\n",
      "INFO:tensorflow:Saving dict for global step 5000: accuracy = 0.93333334, average_loss = 0.41549632, global_step = 5000, loss = 0.41549632\n",
      "INFO:tensorflow:Saving 'checkpoint_path' summary for global step 5000: C:\\Users\\gopal\\AppData\\Local\\Temp\\tmpiws3yj7i\\model.ckpt-5000\n",
      "\n",
      "Test set accuracy: 0.933\n",
      "\n"
     ]
    }
   ],
   "source": [
    "# Evaluate test dataset\n",
    "\n",
    "eval_result = classifier.evaluate(input_fn=lambda: input_fn(test, test_y, training=False))\n",
    "\n",
    "print('\\nTest set accuracy: {accuracy:0.3f}\\n'.format(**eval_result))"
   ]
  },
  {
   "cell_type": "markdown",
   "metadata": {},
   "source": [
    "Accuracy of test DB is very good 93%"
   ]
  },
  {
   "cell_type": "code",
   "execution_count": 17,
   "metadata": {},
   "outputs": [
    {
     "name": "stdout",
     "output_type": "stream",
     "text": [
      "Please type numeric values as prompted.\n",
      "SepalLength: 5.6\n",
      "SepalWidth: 1.2\n",
      "PetalLength: 32.3\n",
      "PetalWidth: 3.4\n",
      "INFO:tensorflow:Calling model_fn.\n",
      "INFO:tensorflow:Done calling model_fn.\n",
      "INFO:tensorflow:Graph was finalized.\n",
      "INFO:tensorflow:Restoring parameters from C:\\Users\\gopal\\AppData\\Local\\Temp\\tmpiws3yj7i\\model.ckpt-5000\n",
      "INFO:tensorflow:Running local_init_op.\n",
      "INFO:tensorflow:Done running local_init_op.\n",
      "Prediction is \"Virginica\" (100.0%)\n"
     ]
    }
   ],
   "source": [
    "# Predictions\n",
    "\n",
    "def input_fn(features, batch_size=256):\n",
    "    # Convert the inputs to a Dataset without labels.\n",
    "    return tf.data.Dataset.from_tensor_slices(dict(features)).batch(batch_size)\n",
    "\n",
    "features = ['SepalLength', 'SepalWidth', 'PetalLength', 'PetalWidth']\n",
    "predict = {}\n",
    "\n",
    "print(\"Please type numeric values as prompted.\")\n",
    "for feature in features:\n",
    "  valid = True\n",
    "  while valid: \n",
    "    val = input(feature + \": \")\n",
    "    if not val.isdigit(): valid = False\n",
    "\n",
    "  predict[feature] = [float(val)]\n",
    "\n",
    "predictions = classifier.predict(input_fn=lambda: input_fn(predict))\n",
    "for pred_dict in predictions:\n",
    "    class_id = pred_dict['class_ids'][0]\n",
    "    probability = pred_dict['probabilities'][class_id]\n",
    "\n",
    "    print('Prediction is \"{}\" ({:.1f}%)'.format(\n",
    "        SPECIES[class_id], 100 * probability))\n"
   ]
  },
  {
   "cell_type": "code",
   "execution_count": 56,
   "metadata": {},
   "outputs": [
    {
     "name": "stdout",
     "output_type": "stream",
     "text": [
      "INFO:tensorflow:Calling model_fn.\n",
      "INFO:tensorflow:Done calling model_fn.\n",
      "INFO:tensorflow:Graph was finalized.\n",
      "INFO:tensorflow:Restoring parameters from C:\\Users\\gopal\\AppData\\Local\\Temp\\tmpiws3yj7i\\model.ckpt-5000\n",
      "INFO:tensorflow:Running local_init_op.\n",
      "INFO:tensorflow:Done running local_init_op.\n",
      "Prediction is \"Setosa\" (89.1%)\n",
      "INFO:tensorflow:Calling model_fn.\n",
      "INFO:tensorflow:Done calling model_fn.\n",
      "INFO:tensorflow:Graph was finalized.\n",
      "INFO:tensorflow:Restoring parameters from C:\\Users\\gopal\\AppData\\Local\\Temp\\tmpiws3yj7i\\model.ckpt-5000\n",
      "INFO:tensorflow:Running local_init_op.\n",
      "INFO:tensorflow:Done running local_init_op.\n",
      "Prediction is \"Versicolor\" (54.1%)\n",
      "INFO:tensorflow:Calling model_fn.\n",
      "INFO:tensorflow:Done calling model_fn.\n",
      "INFO:tensorflow:Graph was finalized.\n",
      "INFO:tensorflow:Restoring parameters from C:\\Users\\gopal\\AppData\\Local\\Temp\\tmpiws3yj7i\\model.ckpt-5000\n",
      "INFO:tensorflow:Running local_init_op.\n",
      "INFO:tensorflow:Done running local_init_op.\n",
      "Prediction is \"Virginica\" (63.2%)\n"
     ]
    }
   ],
   "source": [
    "# Here is some example input and expected classes you can try above\n",
    "expected = ['Setosa', 'Versicolor', 'Virginica']\n",
    "predict_x = {\n",
    "    'SepalLength': [5.1, 5.9, 6.9],\n",
    "    'SepalWidth': [3.3, 3.0, 3.1],\n",
    "    'PetalLength': [1.7, 4.2, 5.4],\n",
    "    'PetalWidth': [0.5, 1.5, 2.1],\n",
    "}\n",
    "\n",
    "\n",
    "def input_fn(features, batch_size=256):\n",
    "    # Convert the inputs to a Dataset without labels.\n",
    "    return tf.data.Dataset.from_tensor_slices(dict(features)).batch(batch_size)\n",
    "\n",
    "predict = {}\n",
    "for i in range(0,3):\n",
    "    for feature in predict_x:\n",
    "        predict[feature] = [float(predict_x[feature][i])]\n",
    "\n",
    "    predictions = classifier.predict(input_fn=lambda: input_fn(predict))\n",
    "    for pred_dict in predictions:\n",
    "        class_id = pred_dict['class_ids'][0]\n",
    "        probability = pred_dict['probabilities'][class_id]\n",
    "\n",
    "        print('Prediction is \"{}\" ({:.1f}%)'.format(\n",
    "            SPECIES[class_id], 100 * probability))\n"
   ]
  }
 ],
 "metadata": {
  "kernelspec": {
   "display_name": "Python 3",
   "language": "python",
   "name": "python3"
  },
  "language_info": {
   "codemirror_mode": {
    "name": "ipython",
    "version": 3
   },
   "file_extension": ".py",
   "mimetype": "text/x-python",
   "name": "python",
   "nbconvert_exporter": "python",
   "pygments_lexer": "ipython3",
   "version": "3.8.1"
  }
 },
 "nbformat": 4,
 "nbformat_minor": 4
}
