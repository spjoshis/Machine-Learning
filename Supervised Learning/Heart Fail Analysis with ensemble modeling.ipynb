{
 "cells": [
  {
   "cell_type": "markdown",
   "id": "4a055872",
   "metadata": {
    "papermill": {
     "duration": 0.044955,
     "end_time": "2021-09-23T09:29:06.390163",
     "exception": false,
     "start_time": "2021-09-23T09:29:06.345208",
     "status": "completed"
    },
    "tags": []
   },
   "source": [
    "# Heart Fail Analysis with ensemble modeling\n",
    "\n",
    "**Gopal Joshi, Diploma**\n",
    "\n",
    "1. Introduction\n",
    "2. Install libraries\n",
    "3. Load and check data<br>\n",
    "    3.1 Load data<br>\n",
    "    3.2 Outlier detection<br>\n",
    "    3.3 Check for missing values<br>\n",
    "4. Feature analysis<br>\n",
    "\t4.1 Numeric Values<br>\n",
    "\t4.2 Categorical Values<br>\n",
    "5. Feature engineering<br>\n",
    "\t5.1 Create Categorical Values<br>\n",
    "6. Simple Modeling<br>\n",
    "\t6.1 Data Splitting<br>\n",
    "\t6.2 Cross Validate Models<br>\n",
    "\t6.3 Hyperparamater tunning for selected models<br>\n",
    "\t6.4 Plot learning curves<br>\n",
    "\t6.4 Feature importance of the tree based classifiers<br>\n",
    "7. Ensemble modeling<br>\n",
    "\t7.1 Combining models<br>\n",
    "8. Prediction\n",
    "\n"
   ]
  },
  {
   "cell_type": "markdown",
   "id": "c96e09e6",
   "metadata": {
    "papermill": {
     "duration": 0.04156,
     "end_time": "2021-09-23T09:29:06.476964",
     "exception": false,
     "start_time": "2021-09-23T09:29:06.435404",
     "status": "completed"
    },
    "tags": []
   },
   "source": [
    "# 1. Introduction"
   ]
  },
  {
   "cell_type": "markdown",
   "id": "52d9bd26",
   "metadata": {
    "papermill": {
     "duration": 0.041986,
     "end_time": "2021-09-23T09:29:06.560969",
     "exception": false,
     "start_time": "2021-09-23T09:29:06.518983",
     "status": "completed"
    },
    "tags": []
   },
   "source": [
    "Heart failure is a chronic, progressive condition in which the heart muscle is unable to pump enough blood to meet the body's needs for blood and oxygen. Basically, the heart can't keep up with its workload. There are certain factors which increase chances of heart fail. It can be either mental or physical factors.\n",
    "\n",
    "In this notebook, i will classification with feature engineering and ensemble modeling. First of all i will display some feature analysis and in that last i will do model evalution and preditions."
   ]
  },
  {
   "cell_type": "code",
   "execution_count": 1,
   "id": "756091f5",
   "metadata": {
    "_cell_guid": "b1076dfc-b9ad-4769-8c92-a6c4dae69d19",
    "_uuid": "8f2839f25d086af736a60e9eeb907d3b93b6e0e5",
    "execution": {
     "iopub.execute_input": "2021-09-23T09:29:06.660433Z",
     "iopub.status.busy": "2021-09-23T09:29:06.659591Z",
     "iopub.status.idle": "2021-09-23T09:29:06.673229Z",
     "shell.execute_reply": "2021-09-23T09:29:06.674207Z",
     "shell.execute_reply.started": "2021-09-23T07:52:15.580798Z"
    },
    "papermill": {
     "duration": 0.071862,
     "end_time": "2021-09-23T09:29:06.674764",
     "exception": false,
     "start_time": "2021-09-23T09:29:06.602902",
     "status": "completed"
    },
    "tags": []
   },
   "outputs": [
    {
     "name": "stdout",
     "output_type": "stream",
     "text": [
      "/kaggle/input/heart-failure-clinical-data/heart_failure_clinical_records_dataset.csv\n"
     ]
    }
   ],
   "source": [
    "import numpy as np # linear algebra\n",
    "import pandas as pd # data processing, CSV file I/O (e.g. pd.read_csv)\n",
    "import os\n",
    "for dirname, _, filenames in os.walk('/kaggle/input'):\n",
    "    for filename in filenames:\n",
    "        print(os.path.join(dirname, filename))\n"
   ]
  },
  {
   "cell_type": "markdown",
   "id": "e1be15d2",
   "metadata": {
    "papermill": {
     "duration": 0.046696,
     "end_time": "2021-09-23T09:29:06.772455",
     "exception": false,
     "start_time": "2021-09-23T09:29:06.725759",
     "status": "completed"
    },
    "tags": []
   },
   "source": [
    "# 2. Install Libraries"
   ]
  },
  {
   "cell_type": "code",
   "execution_count": 2,
   "id": "cde784cf",
   "metadata": {
    "execution": {
     "iopub.execute_input": "2021-09-23T09:29:06.869519Z",
     "iopub.status.busy": "2021-09-23T09:29:06.867979Z",
     "iopub.status.idle": "2021-09-23T09:29:08.003744Z",
     "shell.execute_reply": "2021-09-23T09:29:08.004313Z",
     "shell.execute_reply.started": "2021-09-23T09:02:25.845704Z"
    },
    "papermill": {
     "duration": 1.189359,
     "end_time": "2021-09-23T09:29:08.004496",
     "exception": false,
     "start_time": "2021-09-23T09:29:06.815137",
     "status": "completed"
    },
    "tags": []
   },
   "outputs": [],
   "source": [
    "import matplotlib.pyplot as plt\n",
    "from sklearn.model_selection import train_test_split\n",
    "from sklearn.metrics import confusion_matrix, accuracy_score\n",
    "from collections import Counter\n",
    "import seaborn as sns\n",
    "\n",
    "# Modeling\n",
    "from sklearn.ensemble import RandomForestClassifier, AdaBoostClassifier, GradientBoostingClassifier, VotingClassifier\n",
    "from sklearn.linear_model import LogisticRegression\n",
    "from sklearn.neighbors import KNeighborsClassifier\n",
    "from sklearn.tree import DecisionTreeClassifier\n",
    "from sklearn.svm import SVC\n",
    "from sklearn.model_selection import GridSearchCV, cross_val_score, StratifiedKFold, learning_curve\n",
    "\n",
    "%matplotlib inline\n"
   ]
  },
  {
   "cell_type": "markdown",
   "id": "f95c1fc2",
   "metadata": {
    "papermill": {
     "duration": 0.041488,
     "end_time": "2021-09-23T09:29:08.088323",
     "exception": false,
     "start_time": "2021-09-23T09:29:08.046835",
     "status": "completed"
    },
    "tags": []
   },
   "source": [
    "# 3. Load and check data"
   ]
  },
  {
   "cell_type": "markdown",
   "id": "091755d4",
   "metadata": {
    "papermill": {
     "duration": 0.042123,
     "end_time": "2021-09-23T09:29:08.172613",
     "exception": false,
     "start_time": "2021-09-23T09:29:08.130490",
     "status": "completed"
    },
    "tags": []
   },
   "source": [
    "# <font size=\"4\">3.1 Load data</font>"
   ]
  },
  {
   "cell_type": "code",
   "execution_count": 3,
   "id": "0bdf663d",
   "metadata": {
    "execution": {
     "iopub.execute_input": "2021-09-23T09:29:08.262321Z",
     "iopub.status.busy": "2021-09-23T09:29:08.261574Z",
     "iopub.status.idle": "2021-09-23T09:29:08.292720Z",
     "shell.execute_reply": "2021-09-23T09:29:08.292173Z",
     "shell.execute_reply.started": "2021-09-23T07:52:16.675748Z"
    },
    "papermill": {
     "duration": 0.078334,
     "end_time": "2021-09-23T09:29:08.292872",
     "exception": false,
     "start_time": "2021-09-23T09:29:08.214538",
     "status": "completed"
    },
    "tags": []
   },
   "outputs": [
    {
     "data": {
      "text/html": [
       "<div>\n",
       "<style scoped>\n",
       "    .dataframe tbody tr th:only-of-type {\n",
       "        vertical-align: middle;\n",
       "    }\n",
       "\n",
       "    .dataframe tbody tr th {\n",
       "        vertical-align: top;\n",
       "    }\n",
       "\n",
       "    .dataframe thead th {\n",
       "        text-align: right;\n",
       "    }\n",
       "</style>\n",
       "<table border=\"1\" class=\"dataframe\">\n",
       "  <thead>\n",
       "    <tr style=\"text-align: right;\">\n",
       "      <th></th>\n",
       "      <th>age</th>\n",
       "      <th>anaemia</th>\n",
       "      <th>creatinine_phosphokinase</th>\n",
       "      <th>diabetes</th>\n",
       "      <th>ejection_fraction</th>\n",
       "      <th>high_blood_pressure</th>\n",
       "      <th>platelets</th>\n",
       "      <th>serum_creatinine</th>\n",
       "      <th>serum_sodium</th>\n",
       "      <th>sex</th>\n",
       "      <th>smoking</th>\n",
       "      <th>time</th>\n",
       "      <th>DEATH_EVENT</th>\n",
       "    </tr>\n",
       "  </thead>\n",
       "  <tbody>\n",
       "    <tr>\n",
       "      <th>0</th>\n",
       "      <td>75.0</td>\n",
       "      <td>0</td>\n",
       "      <td>582</td>\n",
       "      <td>0</td>\n",
       "      <td>20</td>\n",
       "      <td>1</td>\n",
       "      <td>265000.00</td>\n",
       "      <td>1.9</td>\n",
       "      <td>130</td>\n",
       "      <td>1</td>\n",
       "      <td>0</td>\n",
       "      <td>4</td>\n",
       "      <td>1</td>\n",
       "    </tr>\n",
       "    <tr>\n",
       "      <th>1</th>\n",
       "      <td>55.0</td>\n",
       "      <td>0</td>\n",
       "      <td>7861</td>\n",
       "      <td>0</td>\n",
       "      <td>38</td>\n",
       "      <td>0</td>\n",
       "      <td>263358.03</td>\n",
       "      <td>1.1</td>\n",
       "      <td>136</td>\n",
       "      <td>1</td>\n",
       "      <td>0</td>\n",
       "      <td>6</td>\n",
       "      <td>1</td>\n",
       "    </tr>\n",
       "    <tr>\n",
       "      <th>2</th>\n",
       "      <td>65.0</td>\n",
       "      <td>0</td>\n",
       "      <td>146</td>\n",
       "      <td>0</td>\n",
       "      <td>20</td>\n",
       "      <td>0</td>\n",
       "      <td>162000.00</td>\n",
       "      <td>1.3</td>\n",
       "      <td>129</td>\n",
       "      <td>1</td>\n",
       "      <td>1</td>\n",
       "      <td>7</td>\n",
       "      <td>1</td>\n",
       "    </tr>\n",
       "    <tr>\n",
       "      <th>3</th>\n",
       "      <td>50.0</td>\n",
       "      <td>1</td>\n",
       "      <td>111</td>\n",
       "      <td>0</td>\n",
       "      <td>20</td>\n",
       "      <td>0</td>\n",
       "      <td>210000.00</td>\n",
       "      <td>1.9</td>\n",
       "      <td>137</td>\n",
       "      <td>1</td>\n",
       "      <td>0</td>\n",
       "      <td>7</td>\n",
       "      <td>1</td>\n",
       "    </tr>\n",
       "    <tr>\n",
       "      <th>4</th>\n",
       "      <td>65.0</td>\n",
       "      <td>1</td>\n",
       "      <td>160</td>\n",
       "      <td>1</td>\n",
       "      <td>20</td>\n",
       "      <td>0</td>\n",
       "      <td>327000.00</td>\n",
       "      <td>2.7</td>\n",
       "      <td>116</td>\n",
       "      <td>0</td>\n",
       "      <td>0</td>\n",
       "      <td>8</td>\n",
       "      <td>1</td>\n",
       "    </tr>\n",
       "  </tbody>\n",
       "</table>\n",
       "</div>"
      ],
      "text/plain": [
       "    age  anaemia  creatinine_phosphokinase  diabetes  ejection_fraction  \\\n",
       "0  75.0        0                       582         0                 20   \n",
       "1  55.0        0                      7861         0                 38   \n",
       "2  65.0        0                       146         0                 20   \n",
       "3  50.0        1                       111         0                 20   \n",
       "4  65.0        1                       160         1                 20   \n",
       "\n",
       "   high_blood_pressure  platelets  serum_creatinine  serum_sodium  sex  \\\n",
       "0                    1  265000.00               1.9           130    1   \n",
       "1                    0  263358.03               1.1           136    1   \n",
       "2                    0  162000.00               1.3           129    1   \n",
       "3                    0  210000.00               1.9           137    1   \n",
       "4                    0  327000.00               2.7           116    0   \n",
       "\n",
       "   smoking  time  DEATH_EVENT  \n",
       "0        0     4            1  \n",
       "1        0     6            1  \n",
       "2        1     7            1  \n",
       "3        0     7            1  \n",
       "4        0     8            1  "
      ]
     },
     "execution_count": 3,
     "metadata": {},
     "output_type": "execute_result"
    }
   ],
   "source": [
    "# Load dataset using python pandas and display top 5 data\n",
    "\n",
    "df = pd.read_csv('/kaggle/input/heart-failure-clinical-data/heart_failure_clinical_records_dataset.csv')\n",
    "df.head()"
   ]
  },
  {
   "cell_type": "markdown",
   "id": "ca04f3ea",
   "metadata": {
    "papermill": {
     "duration": 0.043361,
     "end_time": "2021-09-23T09:29:08.379035",
     "exception": false,
     "start_time": "2021-09-23T09:29:08.335674",
     "status": "completed"
    },
    "tags": []
   },
   "source": [
    "We have person informations like Age, anaemia, creatinine, diabetes etc which are features and DEATH_EVENT is label"
   ]
  },
  {
   "cell_type": "markdown",
   "id": "e04f1faa",
   "metadata": {
    "papermill": {
     "duration": 0.042502,
     "end_time": "2021-09-23T09:29:08.464404",
     "exception": false,
     "start_time": "2021-09-23T09:29:08.421902",
     "status": "completed"
    },
    "tags": []
   },
   "source": [
    "# <font size=\"4\">3.2 Outlier detection</font>\n"
   ]
  },
  {
   "cell_type": "code",
   "execution_count": 4,
   "id": "e8156d1a",
   "metadata": {
    "execution": {
     "iopub.execute_input": "2021-09-23T09:29:08.564216Z",
     "iopub.status.busy": "2021-09-23T09:29:08.561772Z",
     "iopub.status.idle": "2021-09-23T09:29:08.575147Z",
     "shell.execute_reply": "2021-09-23T09:29:08.574543Z",
     "shell.execute_reply.started": "2021-09-23T07:52:16.710840Z"
    },
    "papermill": {
     "duration": 0.067821,
     "end_time": "2021-09-23T09:29:08.575291",
     "exception": false,
     "start_time": "2021-09-23T09:29:08.507470",
     "status": "completed"
    },
    "tags": []
   },
   "outputs": [],
   "source": [
    "def detect_outliers(df,n,features):\n",
    "    outlier_indices = []\n",
    "    \"\"\"\n",
    "    Detect outliers from given list of features. It returns a list of the indices\n",
    "    according to the observations containing more than n outliers according\n",
    "    to the Tukey method\n",
    "    \"\"\"\n",
    "    # iterate over features(columns)\n",
    "    for col in features:\n",
    "        Q1 = np.percentile(df[col], 25)\n",
    "        Q3 = np.percentile(df[col],75)\n",
    "        IQR = Q3 - Q1\n",
    "        \n",
    "        # outlier step\n",
    "        outlier_step = 1.5 * IQR\n",
    "        \n",
    "        # Determine a list of indices of outliers for feature col\n",
    "        outlier_list_col = df[(df[col] < Q1 - outlier_step) | (df[col] > Q3 + outlier_step )].index\n",
    "        \n",
    "        # append the found outlier indices for col to the list of outlier indices \n",
    "        outlier_indices.extend(outlier_list_col)\n",
    "        \n",
    "    # select observations containing more than 2 outliers\n",
    "    outlier_indices = Counter(outlier_indices)\n",
    "    multiple_outliers = list( k for k, v in outlier_indices.items() if v > n )\n",
    "    \n",
    "    return multiple_outliers   \n",
    "\n",
    "# detect outliers from numeric features\n",
    "outliers_to_drop = detect_outliers(df, 2 ,[\"age\",\"anaemia\",\"creatinine_phosphokinase\",\"platelets\", \"serum_creatinine\", \"serum_sodium\", \"time\"])"
   ]
  },
  {
   "cell_type": "markdown",
   "id": "16acaf2d",
   "metadata": {
    "papermill": {
     "duration": 0.04296,
     "end_time": "2021-09-23T09:29:08.661236",
     "exception": false,
     "start_time": "2021-09-23T09:29:08.618276",
     "status": "completed"
    },
    "tags": []
   },
   "source": [
    "I used Tukey method. Tukey method is a single-step multiple comparison procedure and statistical test. It can be used to find means that are significantly different from each other. I detected outliers from the numerical values features (Age, anaemia, creatinine_phosphokinase etc). Then, i considered outliers as rows that have at least two outlied numerical values.\n"
   ]
  },
  {
   "cell_type": "code",
   "execution_count": 5,
   "id": "f38108cd",
   "metadata": {
    "execution": {
     "iopub.execute_input": "2021-09-23T09:29:08.779485Z",
     "iopub.status.busy": "2021-09-23T09:29:08.778720Z",
     "iopub.status.idle": "2021-09-23T09:29:08.787287Z",
     "shell.execute_reply": "2021-09-23T09:29:08.787913Z",
     "shell.execute_reply.started": "2021-09-23T07:52:16.743291Z"
    },
    "papermill": {
     "duration": 0.074378,
     "end_time": "2021-09-23T09:29:08.788121",
     "exception": false,
     "start_time": "2021-09-23T09:29:08.713743",
     "status": "completed"
    },
    "tags": []
   },
   "outputs": [
    {
     "data": {
      "text/html": [
       "<div>\n",
       "<style scoped>\n",
       "    .dataframe tbody tr th:only-of-type {\n",
       "        vertical-align: middle;\n",
       "    }\n",
       "\n",
       "    .dataframe tbody tr th {\n",
       "        vertical-align: top;\n",
       "    }\n",
       "\n",
       "    .dataframe thead th {\n",
       "        text-align: right;\n",
       "    }\n",
       "</style>\n",
       "<table border=\"1\" class=\"dataframe\">\n",
       "  <thead>\n",
       "    <tr style=\"text-align: right;\">\n",
       "      <th></th>\n",
       "      <th>age</th>\n",
       "      <th>anaemia</th>\n",
       "      <th>creatinine_phosphokinase</th>\n",
       "      <th>diabetes</th>\n",
       "      <th>ejection_fraction</th>\n",
       "      <th>high_blood_pressure</th>\n",
       "      <th>platelets</th>\n",
       "      <th>serum_creatinine</th>\n",
       "      <th>serum_sodium</th>\n",
       "      <th>sex</th>\n",
       "      <th>smoking</th>\n",
       "      <th>time</th>\n",
       "      <th>DEATH_EVENT</th>\n",
       "    </tr>\n",
       "  </thead>\n",
       "  <tbody>\n",
       "  </tbody>\n",
       "</table>\n",
       "</div>"
      ],
      "text/plain": [
       "Empty DataFrame\n",
       "Columns: [age, anaemia, creatinine_phosphokinase, diabetes, ejection_fraction, high_blood_pressure, platelets, serum_creatinine, serum_sodium, sex, smoking, time, DEATH_EVENT]\n",
       "Index: []"
      ]
     },
     "execution_count": 5,
     "metadata": {},
     "output_type": "execute_result"
    }
   ],
   "source": [
    "df.loc[outliers_to_drop] # Show the outliers rows"
   ]
  },
  {
   "cell_type": "markdown",
   "id": "434fad27",
   "metadata": {
    "papermill": {
     "duration": 0.042813,
     "end_time": "2021-09-23T09:29:08.874218",
     "exception": false,
     "start_time": "2021-09-23T09:29:08.831405",
     "status": "completed"
    },
    "tags": []
   },
   "source": [
    "Awesome, There is not features containing more than 2 outliers"
   ]
  },
  {
   "cell_type": "markdown",
   "id": "4a82170a",
   "metadata": {
    "papermill": {
     "duration": 0.042698,
     "end_time": "2021-09-23T09:29:08.960294",
     "exception": false,
     "start_time": "2021-09-23T09:29:08.917596",
     "status": "completed"
    },
    "tags": []
   },
   "source": [
    "# <font size=\"4\">3.3 Check for missing values</font>"
   ]
  },
  {
   "cell_type": "code",
   "execution_count": 6,
   "id": "864eddd2",
   "metadata": {
    "execution": {
     "iopub.execute_input": "2021-09-23T09:29:09.050162Z",
     "iopub.status.busy": "2021-09-23T09:29:09.049535Z",
     "iopub.status.idle": "2021-09-23T09:29:09.057426Z",
     "shell.execute_reply": "2021-09-23T09:29:09.056886Z",
     "shell.execute_reply.started": "2021-09-23T07:52:16.766367Z"
    },
    "papermill": {
     "duration": 0.05364,
     "end_time": "2021-09-23T09:29:09.057579",
     "exception": false,
     "start_time": "2021-09-23T09:29:09.003939",
     "status": "completed"
    },
    "tags": []
   },
   "outputs": [
    {
     "data": {
      "text/plain": [
       "age                         0\n",
       "anaemia                     0\n",
       "creatinine_phosphokinase    0\n",
       "diabetes                    0\n",
       "ejection_fraction           0\n",
       "high_blood_pressure         0\n",
       "platelets                   0\n",
       "serum_creatinine            0\n",
       "serum_sodium                0\n",
       "sex                         0\n",
       "smoking                     0\n",
       "time                        0\n",
       "DEATH_EVENT                 0\n",
       "dtype: int64"
      ]
     },
     "execution_count": 6,
     "metadata": {},
     "output_type": "execute_result"
    }
   ],
   "source": [
    "# Find columns with null values\n",
    "df.isnull().sum()"
   ]
  },
  {
   "cell_type": "markdown",
   "id": "b289d462",
   "metadata": {
    "papermill": {
     "duration": 0.043521,
     "end_time": "2021-09-23T09:29:09.144892",
     "exception": false,
     "start_time": "2021-09-23T09:29:09.101371",
     "status": "completed"
    },
    "tags": []
   },
   "source": [
    "Dataset does not have any missing values"
   ]
  },
  {
   "cell_type": "code",
   "execution_count": 7,
   "id": "da319618",
   "metadata": {
    "execution": {
     "iopub.execute_input": "2021-09-23T09:29:09.249070Z",
     "iopub.status.busy": "2021-09-23T09:29:09.237512Z",
     "iopub.status.idle": "2021-09-23T09:29:09.289792Z",
     "shell.execute_reply": "2021-09-23T09:29:09.290289Z",
     "shell.execute_reply.started": "2021-09-23T07:52:16.780525Z"
    },
    "papermill": {
     "duration": 0.101964,
     "end_time": "2021-09-23T09:29:09.290476",
     "exception": false,
     "start_time": "2021-09-23T09:29:09.188512",
     "status": "completed"
    },
    "tags": []
   },
   "outputs": [
    {
     "name": "stdout",
     "output_type": "stream",
     "text": [
      "<class 'pandas.core.frame.DataFrame'>\n",
      "RangeIndex: 299 entries, 0 to 298\n",
      "Data columns (total 13 columns):\n",
      " #   Column                    Non-Null Count  Dtype  \n",
      "---  ------                    --------------  -----  \n",
      " 0   age                       299 non-null    float64\n",
      " 1   anaemia                   299 non-null    int64  \n",
      " 2   creatinine_phosphokinase  299 non-null    int64  \n",
      " 3   diabetes                  299 non-null    int64  \n",
      " 4   ejection_fraction         299 non-null    int64  \n",
      " 5   high_blood_pressure       299 non-null    int64  \n",
      " 6   platelets                 299 non-null    float64\n",
      " 7   serum_creatinine          299 non-null    float64\n",
      " 8   serum_sodium              299 non-null    int64  \n",
      " 9   sex                       299 non-null    int64  \n",
      " 10  smoking                   299 non-null    int64  \n",
      " 11  time                      299 non-null    int64  \n",
      " 12  DEATH_EVENT               299 non-null    int64  \n",
      "dtypes: float64(3), int64(10)\n",
      "memory usage: 30.5 KB\n"
     ]
    },
    {
     "data": {
      "text/html": [
       "<div>\n",
       "<style scoped>\n",
       "    .dataframe tbody tr th:only-of-type {\n",
       "        vertical-align: middle;\n",
       "    }\n",
       "\n",
       "    .dataframe tbody tr th {\n",
       "        vertical-align: top;\n",
       "    }\n",
       "\n",
       "    .dataframe thead th {\n",
       "        text-align: right;\n",
       "    }\n",
       "</style>\n",
       "<table border=\"1\" class=\"dataframe\">\n",
       "  <thead>\n",
       "    <tr style=\"text-align: right;\">\n",
       "      <th></th>\n",
       "      <th>age</th>\n",
       "      <th>anaemia</th>\n",
       "      <th>creatinine_phosphokinase</th>\n",
       "      <th>diabetes</th>\n",
       "      <th>ejection_fraction</th>\n",
       "      <th>high_blood_pressure</th>\n",
       "      <th>platelets</th>\n",
       "      <th>serum_creatinine</th>\n",
       "      <th>serum_sodium</th>\n",
       "      <th>sex</th>\n",
       "      <th>smoking</th>\n",
       "      <th>time</th>\n",
       "      <th>DEATH_EVENT</th>\n",
       "    </tr>\n",
       "  </thead>\n",
       "  <tbody>\n",
       "    <tr>\n",
       "      <th>count</th>\n",
       "      <td>299.000000</td>\n",
       "      <td>299.000000</td>\n",
       "      <td>299.000000</td>\n",
       "      <td>299.000000</td>\n",
       "      <td>299.000000</td>\n",
       "      <td>299.000000</td>\n",
       "      <td>299.000000</td>\n",
       "      <td>299.00000</td>\n",
       "      <td>299.000000</td>\n",
       "      <td>299.000000</td>\n",
       "      <td>299.00000</td>\n",
       "      <td>299.000000</td>\n",
       "      <td>299.00000</td>\n",
       "    </tr>\n",
       "    <tr>\n",
       "      <th>mean</th>\n",
       "      <td>60.833893</td>\n",
       "      <td>0.431438</td>\n",
       "      <td>581.839465</td>\n",
       "      <td>0.418060</td>\n",
       "      <td>38.083612</td>\n",
       "      <td>0.351171</td>\n",
       "      <td>263358.029264</td>\n",
       "      <td>1.39388</td>\n",
       "      <td>136.625418</td>\n",
       "      <td>0.648829</td>\n",
       "      <td>0.32107</td>\n",
       "      <td>130.260870</td>\n",
       "      <td>0.32107</td>\n",
       "    </tr>\n",
       "    <tr>\n",
       "      <th>std</th>\n",
       "      <td>11.894809</td>\n",
       "      <td>0.496107</td>\n",
       "      <td>970.287881</td>\n",
       "      <td>0.494067</td>\n",
       "      <td>11.834841</td>\n",
       "      <td>0.478136</td>\n",
       "      <td>97804.236869</td>\n",
       "      <td>1.03451</td>\n",
       "      <td>4.412477</td>\n",
       "      <td>0.478136</td>\n",
       "      <td>0.46767</td>\n",
       "      <td>77.614208</td>\n",
       "      <td>0.46767</td>\n",
       "    </tr>\n",
       "    <tr>\n",
       "      <th>min</th>\n",
       "      <td>40.000000</td>\n",
       "      <td>0.000000</td>\n",
       "      <td>23.000000</td>\n",
       "      <td>0.000000</td>\n",
       "      <td>14.000000</td>\n",
       "      <td>0.000000</td>\n",
       "      <td>25100.000000</td>\n",
       "      <td>0.50000</td>\n",
       "      <td>113.000000</td>\n",
       "      <td>0.000000</td>\n",
       "      <td>0.00000</td>\n",
       "      <td>4.000000</td>\n",
       "      <td>0.00000</td>\n",
       "    </tr>\n",
       "    <tr>\n",
       "      <th>25%</th>\n",
       "      <td>51.000000</td>\n",
       "      <td>0.000000</td>\n",
       "      <td>116.500000</td>\n",
       "      <td>0.000000</td>\n",
       "      <td>30.000000</td>\n",
       "      <td>0.000000</td>\n",
       "      <td>212500.000000</td>\n",
       "      <td>0.90000</td>\n",
       "      <td>134.000000</td>\n",
       "      <td>0.000000</td>\n",
       "      <td>0.00000</td>\n",
       "      <td>73.000000</td>\n",
       "      <td>0.00000</td>\n",
       "    </tr>\n",
       "    <tr>\n",
       "      <th>50%</th>\n",
       "      <td>60.000000</td>\n",
       "      <td>0.000000</td>\n",
       "      <td>250.000000</td>\n",
       "      <td>0.000000</td>\n",
       "      <td>38.000000</td>\n",
       "      <td>0.000000</td>\n",
       "      <td>262000.000000</td>\n",
       "      <td>1.10000</td>\n",
       "      <td>137.000000</td>\n",
       "      <td>1.000000</td>\n",
       "      <td>0.00000</td>\n",
       "      <td>115.000000</td>\n",
       "      <td>0.00000</td>\n",
       "    </tr>\n",
       "    <tr>\n",
       "      <th>75%</th>\n",
       "      <td>70.000000</td>\n",
       "      <td>1.000000</td>\n",
       "      <td>582.000000</td>\n",
       "      <td>1.000000</td>\n",
       "      <td>45.000000</td>\n",
       "      <td>1.000000</td>\n",
       "      <td>303500.000000</td>\n",
       "      <td>1.40000</td>\n",
       "      <td>140.000000</td>\n",
       "      <td>1.000000</td>\n",
       "      <td>1.00000</td>\n",
       "      <td>203.000000</td>\n",
       "      <td>1.00000</td>\n",
       "    </tr>\n",
       "    <tr>\n",
       "      <th>max</th>\n",
       "      <td>95.000000</td>\n",
       "      <td>1.000000</td>\n",
       "      <td>7861.000000</td>\n",
       "      <td>1.000000</td>\n",
       "      <td>80.000000</td>\n",
       "      <td>1.000000</td>\n",
       "      <td>850000.000000</td>\n",
       "      <td>9.40000</td>\n",
       "      <td>148.000000</td>\n",
       "      <td>1.000000</td>\n",
       "      <td>1.00000</td>\n",
       "      <td>285.000000</td>\n",
       "      <td>1.00000</td>\n",
       "    </tr>\n",
       "  </tbody>\n",
       "</table>\n",
       "</div>"
      ],
      "text/plain": [
       "              age     anaemia  creatinine_phosphokinase    diabetes  \\\n",
       "count  299.000000  299.000000                299.000000  299.000000   \n",
       "mean    60.833893    0.431438                581.839465    0.418060   \n",
       "std     11.894809    0.496107                970.287881    0.494067   \n",
       "min     40.000000    0.000000                 23.000000    0.000000   \n",
       "25%     51.000000    0.000000                116.500000    0.000000   \n",
       "50%     60.000000    0.000000                250.000000    0.000000   \n",
       "75%     70.000000    1.000000                582.000000    1.000000   \n",
       "max     95.000000    1.000000               7861.000000    1.000000   \n",
       "\n",
       "       ejection_fraction  high_blood_pressure      platelets  \\\n",
       "count         299.000000           299.000000     299.000000   \n",
       "mean           38.083612             0.351171  263358.029264   \n",
       "std            11.834841             0.478136   97804.236869   \n",
       "min            14.000000             0.000000   25100.000000   \n",
       "25%            30.000000             0.000000  212500.000000   \n",
       "50%            38.000000             0.000000  262000.000000   \n",
       "75%            45.000000             1.000000  303500.000000   \n",
       "max            80.000000             1.000000  850000.000000   \n",
       "\n",
       "       serum_creatinine  serum_sodium         sex    smoking        time  \\\n",
       "count         299.00000    299.000000  299.000000  299.00000  299.000000   \n",
       "mean            1.39388    136.625418    0.648829    0.32107  130.260870   \n",
       "std             1.03451      4.412477    0.478136    0.46767   77.614208   \n",
       "min             0.50000    113.000000    0.000000    0.00000    4.000000   \n",
       "25%             0.90000    134.000000    0.000000    0.00000   73.000000   \n",
       "50%             1.10000    137.000000    1.000000    0.00000  115.000000   \n",
       "75%             1.40000    140.000000    1.000000    1.00000  203.000000   \n",
       "max             9.40000    148.000000    1.000000    1.00000  285.000000   \n",
       "\n",
       "       DEATH_EVENT  \n",
       "count    299.00000  \n",
       "mean       0.32107  \n",
       "std        0.46767  \n",
       "min        0.00000  \n",
       "25%        0.00000  \n",
       "50%        0.00000  \n",
       "75%        1.00000  \n",
       "max        1.00000  "
      ]
     },
     "execution_count": 7,
     "metadata": {},
     "output_type": "execute_result"
    }
   ],
   "source": [
    "# Infos\n",
    "df.info()\n",
    "df.describe()"
   ]
  },
  {
   "cell_type": "code",
   "execution_count": 8,
   "id": "58631c8b",
   "metadata": {
    "execution": {
     "iopub.execute_input": "2021-09-23T09:29:09.383461Z",
     "iopub.status.busy": "2021-09-23T09:29:09.382791Z",
     "iopub.status.idle": "2021-09-23T09:29:09.388654Z",
     "shell.execute_reply": "2021-09-23T09:29:09.389132Z",
     "shell.execute_reply.started": "2021-09-23T07:52:16.849519Z"
    },
    "papermill": {
     "duration": 0.053982,
     "end_time": "2021-09-23T09:29:09.389299",
     "exception": false,
     "start_time": "2021-09-23T09:29:09.335317",
     "status": "completed"
    },
    "tags": []
   },
   "outputs": [
    {
     "data": {
      "text/plain": [
       "age                         float64\n",
       "anaemia                       int64\n",
       "creatinine_phosphokinase      int64\n",
       "diabetes                      int64\n",
       "ejection_fraction             int64\n",
       "high_blood_pressure           int64\n",
       "platelets                   float64\n",
       "serum_creatinine            float64\n",
       "serum_sodium                  int64\n",
       "sex                           int64\n",
       "smoking                       int64\n",
       "time                          int64\n",
       "DEATH_EVENT                   int64\n",
       "dtype: object"
      ]
     },
     "execution_count": 8,
     "metadata": {},
     "output_type": "execute_result"
    }
   ],
   "source": [
    "df.dtypes"
   ]
  },
  {
   "cell_type": "markdown",
   "id": "6698a5a1",
   "metadata": {
    "papermill": {
     "duration": 0.044809,
     "end_time": "2021-09-23T09:29:09.479130",
     "exception": false,
     "start_time": "2021-09-23T09:29:09.434321",
     "status": "completed"
    },
    "tags": []
   },
   "source": [
    "# 4. Feature analysis"
   ]
  },
  {
   "cell_type": "markdown",
   "id": "9cf8f451",
   "metadata": {
    "papermill": {
     "duration": 0.044947,
     "end_time": "2021-09-23T09:29:09.568856",
     "exception": false,
     "start_time": "2021-09-23T09:29:09.523909",
     "status": "completed"
    },
    "tags": []
   },
   "source": [
    "# <font size=\"4\">4.1 Numeric Values</font>"
   ]
  },
  {
   "cell_type": "code",
   "execution_count": 9,
   "id": "3844d098",
   "metadata": {
    "execution": {
     "iopub.execute_input": "2021-09-23T09:29:09.664731Z",
     "iopub.status.busy": "2021-09-23T09:29:09.661360Z",
     "iopub.status.idle": "2021-09-23T09:29:11.096432Z",
     "shell.execute_reply": "2021-09-23T09:29:11.096905Z",
     "shell.execute_reply.started": "2021-09-23T07:52:16.861589Z"
    },
    "papermill": {
     "duration": 1.483282,
     "end_time": "2021-09-23T09:29:11.097085",
     "exception": false,
     "start_time": "2021-09-23T09:29:09.613803",
     "status": "completed"
    },
    "tags": []
   },
   "outputs": [
    {
     "data": {
      "text/plain": [
       "<AxesSubplot:>"
      ]
     },
     "execution_count": 9,
     "metadata": {},
     "output_type": "execute_result"
    },
    {
     "data": {
      "image/png": "[encoded data removed]",
      "text/plain": [
       "<Figure size 936x720 with 2 Axes>"
      ]
     },
     "metadata": {
      "needs_background": "light"
     },
     "output_type": "display_data"
    }
   ],
   "source": [
    "plt.figure(figsize=(13,10))\n",
    "sns.heatmap(df.corr(),annot=True, fmt = \".2f\", cmap = \"coolwarm\")"
   ]
  },
  {
   "cell_type": "markdown",
   "id": "281740d1",
   "metadata": {
    "papermill": {
     "duration": 0.048662,
     "end_time": "2021-09-23T09:29:11.195304",
     "exception": false,
     "start_time": "2021-09-23T09:29:11.146642",
     "status": "completed"
    },
    "tags": []
   },
   "source": [
    "age, serum_creatinine feature seems to have a significative correlation with the death event probability. ejection_fraction and serum_sodium also negatively corelated with death event\n",
    "\n",
    "This does not mean that other features are not useful. We need to explore in detail these features to detarmine it corelation\n",
    "\n"
   ]
  },
  {
   "cell_type": "code",
   "execution_count": 10,
   "id": "12bdfde7",
   "metadata": {
    "execution": {
     "iopub.execute_input": "2021-09-23T09:29:11.340660Z",
     "iopub.status.busy": "2021-09-23T09:29:11.322916Z",
     "iopub.status.idle": "2021-09-23T09:29:11.590873Z",
     "shell.execute_reply": "2021-09-23T09:29:11.591399Z",
     "shell.execute_reply.started": "2021-09-23T07:52:18.383006Z"
    },
    "papermill": {
     "duration": 0.347203,
     "end_time": "2021-09-23T09:29:11.591582",
     "exception": false,
     "start_time": "2021-09-23T09:29:11.244379",
     "status": "completed"
    },
    "tags": []
   },
   "outputs": [
    {
     "data": {
      "text/plain": [
       "<matplotlib.legend.Legend at 0x7f4c64fd3250>"
      ]
     },
     "execution_count": 10,
     "metadata": {},
     "output_type": "execute_result"
    },
    {
     "data": {
      "image/png": "[encoded data removed]",
      "text/plain": [
       "<Figure size 936x432 with 1 Axes>"
      ]
     },
     "metadata": {
      "needs_background": "light"
     },
     "output_type": "display_data"
    }
   ],
   "source": [
    "# Explore Age vs DEATH_EVENT\n",
    "plt.figure(figsize=(13,6))\n",
    "g = sns.kdeplot(df[\"age\"][df[\"DEATH_EVENT\"] == 1], color=\"Red\", shade = True)\n",
    "g = sns.kdeplot(df[\"age\"][df[\"DEATH_EVENT\"] == 0], ax =g, color=\"Blue\", shade= True)\n",
    "g.set_xlabel(\"Age\")\n",
    "g.set_ylabel(\"Frequency\")\n",
    "g.legend([\"Not Survived\",\"Survived\"])\n"
   ]
  },
  {
   "cell_type": "markdown",
   "id": "d9089b2e",
   "metadata": {
    "papermill": {
     "duration": 0.051838,
     "end_time": "2021-09-23T09:29:11.694766",
     "exception": false,
     "start_time": "2021-09-23T09:29:11.642928",
     "status": "completed"
    },
    "tags": []
   },
   "source": [
    "When we superimpose the two densities , we cleary see a peak correponsing (between 45 and 75) to babies and very young childrens.\n"
   ]
  },
  {
   "cell_type": "code",
   "execution_count": 11,
   "id": "6bfe761f",
   "metadata": {
    "execution": {
     "iopub.execute_input": "2021-09-23T09:29:11.801632Z",
     "iopub.status.busy": "2021-09-23T09:29:11.800834Z",
     "iopub.status.idle": "2021-09-23T09:29:12.182908Z",
     "shell.execute_reply": "2021-09-23T09:29:12.182263Z",
     "shell.execute_reply.started": "2021-09-23T07:52:18.687601Z"
    },
    "papermill": {
     "duration": 0.437878,
     "end_time": "2021-09-23T09:29:12.183068",
     "exception": false,
     "start_time": "2021-09-23T09:29:11.745190",
     "status": "completed"
    },
    "tags": []
   },
   "outputs": [
    {
     "name": "stderr",
     "output_type": "stream",
     "text": [
      "/opt/conda/lib/python3.7/site-packages/seaborn/distributions.py:2619: FutureWarning: `distplot` is a deprecated function and will be removed in a future version. Please adapt your code to use either `displot` (a figure-level function with similar flexibility) or `histplot` (an axes-level function for histograms).\n",
      "  warnings.warn(msg, FutureWarning)\n"
     ]
    },
    {
     "data": {
      "image/png": "[encoded data removed]",
      "text/plain": [
       "<Figure size 432x288 with 1 Axes>"
      ]
     },
     "metadata": {
      "needs_background": "light"
     },
     "output_type": "display_data"
    }
   ],
   "source": [
    "# Explore Fare distribution \n",
    "g = sns.distplot(df[\"creatinine_phosphokinase\"], color=\"m\", label=\"Skewness : %.2f\"%(df[\"creatinine_phosphokinase\"].skew()))\n",
    "g = g.legend(loc=\"best\")"
   ]
  },
  {
   "cell_type": "markdown",
   "id": "7ddcdd4a",
   "metadata": {
    "papermill": {
     "duration": 0.05116,
     "end_time": "2021-09-23T09:29:12.285962",
     "exception": false,
     "start_time": "2021-09-23T09:29:12.234802",
     "status": "completed"
    },
    "tags": []
   },
   "source": [
    "As we can see, creatine phosphokinase distribution is very skewed. This can lead to overweigth very high values in the model, even if it is scaled.\n",
    "\n",
    "In this case, it is better to transform it with the log function to reduce this skew."
   ]
  },
  {
   "cell_type": "code",
   "execution_count": 12,
   "id": "1daeaad0",
   "metadata": {
    "execution": {
     "iopub.execute_input": "2021-09-23T09:29:12.392913Z",
     "iopub.status.busy": "2021-09-23T09:29:12.392222Z",
     "iopub.status.idle": "2021-09-23T09:29:12.398047Z",
     "shell.execute_reply": "2021-09-23T09:29:12.398541Z",
     "shell.execute_reply.started": "2021-09-23T07:55:22.591051Z"
    },
    "papermill": {
     "duration": 0.061086,
     "end_time": "2021-09-23T09:29:12.398722",
     "exception": false,
     "start_time": "2021-09-23T09:29:12.337636",
     "status": "completed"
    },
    "tags": []
   },
   "outputs": [],
   "source": [
    "# Apply log to Fare to reduce skewness distribution\n",
    "df[\"creatinine_phosphokinase\"] = df[\"creatinine_phosphokinase\"].map(lambda i: np.log(i) if i > 0 else 0)\n"
   ]
  },
  {
   "cell_type": "code",
   "execution_count": 13,
   "id": "1c122198",
   "metadata": {
    "execution": {
     "iopub.execute_input": "2021-09-23T09:29:12.506421Z",
     "iopub.status.busy": "2021-09-23T09:29:12.505382Z",
     "iopub.status.idle": "2021-09-23T09:29:12.797259Z",
     "shell.execute_reply": "2021-09-23T09:29:12.797720Z",
     "shell.execute_reply.started": "2021-09-23T09:22:02.975062Z"
    },
    "papermill": {
     "duration": 0.347254,
     "end_time": "2021-09-23T09:29:12.797897",
     "exception": false,
     "start_time": "2021-09-23T09:29:12.450643",
     "status": "completed"
    },
    "tags": []
   },
   "outputs": [
    {
     "data": {
      "image/png": "[encoded data removed]",
      "text/plain": [
       "<Figure size 432x288 with 1 Axes>"
      ]
     },
     "metadata": {
      "needs_background": "light"
     },
     "output_type": "display_data"
    }
   ],
   "source": [
    "g = sns.histplot(df[\"creatinine_phosphokinase\"], color=\"m\", label=\"Skewness : %.2f\"%(df[\"creatinine_phosphokinase\"].skew()))\n",
    "g = g.legend(loc=\"best\")"
   ]
  },
  {
   "cell_type": "markdown",
   "id": "d809ed25",
   "metadata": {
    "papermill": {
     "duration": 0.05175,
     "end_time": "2021-09-23T09:29:12.902079",
     "exception": false,
     "start_time": "2021-09-23T09:29:12.850329",
     "status": "completed"
    },
    "tags": []
   },
   "source": [
    "Skewness is clearly reduced after the log transformation\n"
   ]
  },
  {
   "cell_type": "code",
   "execution_count": 14,
   "id": "f60f0967",
   "metadata": {
    "execution": {
     "iopub.execute_input": "2021-09-23T09:29:13.052887Z",
     "iopub.status.busy": "2021-09-23T09:29:13.051135Z",
     "iopub.status.idle": "2021-09-23T09:29:13.416029Z",
     "shell.execute_reply": "2021-09-23T09:29:13.415465Z",
     "shell.execute_reply.started": "2021-09-23T09:22:09.294803Z"
    },
    "papermill": {
     "duration": 0.461935,
     "end_time": "2021-09-23T09:29:13.416188",
     "exception": false,
     "start_time": "2021-09-23T09:29:12.954253",
     "status": "completed"
    },
    "tags": []
   },
   "outputs": [
    {
     "data": {
      "image/png": "[encoded data removed]",
      "text/plain": [
       "<Figure size 432x288 with 1 Axes>"
      ]
     },
     "metadata": {
      "needs_background": "light"
     },
     "output_type": "display_data"
    }
   ],
   "source": [
    "# Explore Fare distribution \n",
    "g = sns.histplot(df[\"serum_creatinine\"], color=\"m\", label=\"Skewness : %.2f\"%(df[\"serum_creatinine\"].skew()))\n",
    "g = g.legend(loc=\"best\")"
   ]
  },
  {
   "cell_type": "markdown",
   "id": "6d362f4c",
   "metadata": {
    "papermill": {
     "duration": 0.052444,
     "end_time": "2021-09-23T09:29:13.521641",
     "exception": false,
     "start_time": "2021-09-23T09:29:13.469197",
     "status": "completed"
    },
    "tags": []
   },
   "source": [
    "Serum creatinine distribution is very skewed. In this case, it is better to transform it with the log function to reduce this skew."
   ]
  },
  {
   "cell_type": "code",
   "execution_count": 15,
   "id": "138e03e6",
   "metadata": {
    "execution": {
     "iopub.execute_input": "2021-09-23T09:29:13.674413Z",
     "iopub.status.busy": "2021-09-23T09:29:13.663857Z",
     "iopub.status.idle": "2021-09-23T09:29:13.946212Z",
     "shell.execute_reply": "2021-09-23T09:29:13.946679Z",
     "shell.execute_reply.started": "2021-09-23T09:22:14.178850Z"
    },
    "papermill": {
     "duration": 0.372302,
     "end_time": "2021-09-23T09:29:13.946859",
     "exception": false,
     "start_time": "2021-09-23T09:29:13.574557",
     "status": "completed"
    },
    "tags": []
   },
   "outputs": [
    {
     "data": {
      "image/png": "[encoded data removed]",
      "text/plain": [
       "<Figure size 432x288 with 1 Axes>"
      ]
     },
     "metadata": {
      "needs_background": "light"
     },
     "output_type": "display_data"
    }
   ],
   "source": [
    "# Apply log to Fare to reduce skewness distribution\n",
    "df[\"serum_creatinine\"] = df[\"serum_creatinine\"].map(lambda i: np.log(i) if i > 0 else 0)\n",
    "g = sns.histplot(df[\"serum_creatinine\"], color=\"m\", label=\"Skewness : %.2f\"%(df[\"serum_creatinine\"].skew()))\n",
    "g = g.legend(loc=\"best\")"
   ]
  },
  {
   "cell_type": "markdown",
   "id": "ddfa79f0",
   "metadata": {
    "papermill": {
     "duration": 0.053762,
     "end_time": "2021-09-23T09:29:14.055888",
     "exception": false,
     "start_time": "2021-09-23T09:29:14.002126",
     "status": "completed"
    },
    "tags": []
   },
   "source": [
    "# <font size=\"4\">4.2 Categorical Values</font>"
   ]
  },
  {
   "cell_type": "markdown",
   "id": "0c5a9b66",
   "metadata": {
    "papermill": {
     "duration": 0.053361,
     "end_time": "2021-09-23T09:29:14.162820",
     "exception": false,
     "start_time": "2021-09-23T09:29:14.109459",
     "status": "completed"
    },
    "tags": []
   },
   "source": [
    "**Anaemia**"
   ]
  },
  {
   "cell_type": "code",
   "execution_count": 16,
   "id": "fc167141",
   "metadata": {
    "execution": {
     "iopub.execute_input": "2021-09-23T09:29:14.275346Z",
     "iopub.status.busy": "2021-09-23T09:29:14.274374Z",
     "iopub.status.idle": "2021-09-23T09:29:14.511068Z",
     "shell.execute_reply": "2021-09-23T09:29:14.510456Z",
     "shell.execute_reply.started": "2021-09-23T07:53:47.787411Z"
    },
    "papermill": {
     "duration": 0.294389,
     "end_time": "2021-09-23T09:29:14.511245",
     "exception": false,
     "start_time": "2021-09-23T09:29:14.216856",
     "status": "completed"
    },
    "tags": []
   },
   "outputs": [
    {
     "data": {
      "text/plain": [
       "Text(0, 0.5, 'Survival Probability')"
      ]
     },
     "execution_count": 16,
     "metadata": {},
     "output_type": "execute_result"
    },
    {
     "data": {
      "image/png": "[encoded data removed]",
      "text/plain": [
       "<Figure size 432x288 with 1 Axes>"
      ]
     },
     "metadata": {
      "needs_background": "light"
     },
     "output_type": "display_data"
    }
   ],
   "source": [
    "g = sns.barplot(x=\"anaemia\",y=\"DEATH_EVENT\",data=df)\n",
    "g.set_ylabel(\"Survival Probability\")"
   ]
  },
  {
   "cell_type": "markdown",
   "id": "12f92e83",
   "metadata": {
    "papermill": {
     "duration": 0.055196,
     "end_time": "2021-09-23T09:29:14.621891",
     "exception": false,
     "start_time": "2021-09-23T09:29:14.566695",
     "status": "completed"
    },
    "tags": []
   },
   "source": [
    "**Sex**"
   ]
  },
  {
   "cell_type": "code",
   "execution_count": 17,
   "id": "e6496833",
   "metadata": {
    "execution": {
     "iopub.execute_input": "2021-09-23T09:29:14.737422Z",
     "iopub.status.busy": "2021-09-23T09:29:14.736718Z",
     "iopub.status.idle": "2021-09-23T09:29:14.993284Z",
     "shell.execute_reply": "2021-09-23T09:29:14.992675Z",
     "shell.execute_reply.started": "2021-09-23T07:55:37.245316Z"
    },
    "papermill": {
     "duration": 0.316756,
     "end_time": "2021-09-23T09:29:14.993429",
     "exception": false,
     "start_time": "2021-09-23T09:29:14.676673",
     "status": "completed"
    },
    "tags": []
   },
   "outputs": [
    {
     "data": {
      "text/plain": [
       "Text(0, 0.5, 'Survival Probability')"
      ]
     },
     "execution_count": 17,
     "metadata": {},
     "output_type": "execute_result"
    },
    {
     "data": {
      "image/png": "[encoded data removed]",
      "text/plain": [
       "<Figure size 432x288 with 1 Axes>"
      ]
     },
     "metadata": {
      "needs_background": "light"
     },
     "output_type": "display_data"
    }
   ],
   "source": [
    "g = sns.barplot(x=\"sex\",y=\"DEATH_EVENT\",data=df)\n",
    "g.set_ylabel(\"Survival Probability\")"
   ]
  },
  {
   "cell_type": "code",
   "execution_count": 18,
   "id": "fbead482",
   "metadata": {
    "execution": {
     "iopub.execute_input": "2021-09-23T09:29:15.119077Z",
     "iopub.status.busy": "2021-09-23T09:29:15.118051Z",
     "iopub.status.idle": "2021-09-23T09:29:15.121433Z",
     "shell.execute_reply": "2021-09-23T09:29:15.121936Z",
     "shell.execute_reply.started": "2021-09-23T07:55:39.425721Z"
    },
    "papermill": {
     "duration": 0.072968,
     "end_time": "2021-09-23T09:29:15.122123",
     "exception": false,
     "start_time": "2021-09-23T09:29:15.049155",
     "status": "completed"
    },
    "tags": []
   },
   "outputs": [
    {
     "data": {
      "text/html": [
       "<div>\n",
       "<style scoped>\n",
       "    .dataframe tbody tr th:only-of-type {\n",
       "        vertical-align: middle;\n",
       "    }\n",
       "\n",
       "    .dataframe tbody tr th {\n",
       "        vertical-align: top;\n",
       "    }\n",
       "\n",
       "    .dataframe thead th {\n",
       "        text-align: right;\n",
       "    }\n",
       "</style>\n",
       "<table border=\"1\" class=\"dataframe\">\n",
       "  <thead>\n",
       "    <tr style=\"text-align: right;\">\n",
       "      <th></th>\n",
       "      <th>DEATH_EVENT</th>\n",
       "    </tr>\n",
       "    <tr>\n",
       "      <th>sex</th>\n",
       "      <th></th>\n",
       "    </tr>\n",
       "  </thead>\n",
       "  <tbody>\n",
       "    <tr>\n",
       "      <th>0</th>\n",
       "      <td>0.323810</td>\n",
       "    </tr>\n",
       "    <tr>\n",
       "      <th>1</th>\n",
       "      <td>0.319588</td>\n",
       "    </tr>\n",
       "  </tbody>\n",
       "</table>\n",
       "</div>"
      ],
      "text/plain": [
       "     DEATH_EVENT\n",
       "sex             \n",
       "0       0.323810\n",
       "1       0.319588"
      ]
     },
     "execution_count": 18,
     "metadata": {},
     "output_type": "execute_result"
    }
   ],
   "source": [
    "df[[\"sex\",\"DEATH_EVENT\"]].groupby('sex').mean()\n"
   ]
  },
  {
   "cell_type": "markdown",
   "id": "5fc518e2",
   "metadata": {
    "papermill": {
     "duration": 0.056475,
     "end_time": "2021-09-23T09:29:15.235239",
     "exception": false,
     "start_time": "2021-09-23T09:29:15.178764",
     "status": "completed"
    },
    "tags": []
   },
   "source": [
    "Gender of patient Male = 1, Female = 0\n",
    "\n",
    "Accrding to observation male and female both have similar chances of survival. So Sex, might not play an important role in the prediction of the death.\n",
    "\n"
   ]
  },
  {
   "cell_type": "markdown",
   "id": "d6f81b04",
   "metadata": {
    "papermill": {
     "duration": 0.0563,
     "end_time": "2021-09-23T09:29:15.348130",
     "exception": false,
     "start_time": "2021-09-23T09:29:15.291830",
     "status": "completed"
    },
    "tags": []
   },
   "source": [
    "**diabetes**"
   ]
  },
  {
   "cell_type": "code",
   "execution_count": 19,
   "id": "4a6cc588",
   "metadata": {
    "execution": {
     "iopub.execute_input": "2021-09-23T09:29:15.470528Z",
     "iopub.status.busy": "2021-09-23T09:29:15.468551Z",
     "iopub.status.idle": "2021-09-23T09:29:15.926993Z",
     "shell.execute_reply": "2021-09-23T09:29:15.926456Z",
     "shell.execute_reply.started": "2021-09-23T08:18:36.303938Z"
    },
    "papermill": {
     "duration": 0.522623,
     "end_time": "2021-09-23T09:29:15.927150",
     "exception": false,
     "start_time": "2021-09-23T09:29:15.404527",
     "status": "completed"
    },
    "tags": []
   },
   "outputs": [
    {
     "data": {
      "text/plain": [
       "<seaborn.axisgrid.FacetGrid at 0x7f4c5efdfed0>"
      ]
     },
     "execution_count": 19,
     "metadata": {},
     "output_type": "execute_result"
    },
    {
     "data": {
      "image/png": "[encoded data removed]",
      "text/plain": [
       "<Figure size 402.375x360 with 1 Axes>"
      ]
     },
     "metadata": {
      "needs_background": "light"
     },
     "output_type": "display_data"
    }
   ],
   "source": [
    "# Explore diabetes vs Survived by Sex\n",
    "g = sns.catplot(x=\"diabetes\", y=\"DEATH_EVENT\", hue=\"sex\", data=df,\n",
    "                   kind=\"bar\", palette=\"muted\")\n",
    "g.set_ylabels(\"survival probability\")"
   ]
  },
  {
   "cell_type": "markdown",
   "id": "a9031d4a",
   "metadata": {
    "papermill": {
     "duration": 0.05741,
     "end_time": "2021-09-23T09:29:16.043025",
     "exception": false,
     "start_time": "2021-09-23T09:29:15.985615",
     "status": "completed"
    },
    "tags": []
   },
   "source": [
    "Its clearly obvious that female with diabetes has more chances of heart fail"
   ]
  },
  {
   "cell_type": "markdown",
   "id": "aff7ee34",
   "metadata": {
    "papermill": {
     "duration": 0.057513,
     "end_time": "2021-09-23T09:29:16.157887",
     "exception": false,
     "start_time": "2021-09-23T09:29:16.100374",
     "status": "completed"
    },
    "tags": []
   },
   "source": [
    "**High blood pressure**"
   ]
  },
  {
   "cell_type": "code",
   "execution_count": 20,
   "id": "4b9ae0fa",
   "metadata": {
    "execution": {
     "iopub.execute_input": "2021-09-23T09:29:16.282273Z",
     "iopub.status.busy": "2021-09-23T09:29:16.281278Z",
     "iopub.status.idle": "2021-09-23T09:29:16.514279Z",
     "shell.execute_reply": "2021-09-23T09:29:16.513764Z",
     "shell.execute_reply.started": "2021-09-23T07:53:54.871180Z"
    },
    "papermill": {
     "duration": 0.299164,
     "end_time": "2021-09-23T09:29:16.514429",
     "exception": false,
     "start_time": "2021-09-23T09:29:16.215265",
     "status": "completed"
    },
    "tags": []
   },
   "outputs": [
    {
     "data": {
      "text/plain": [
       "Text(0, 0.5, 'Survival Probability')"
      ]
     },
     "execution_count": 20,
     "metadata": {},
     "output_type": "execute_result"
    },
    {
     "data": {
      "image/png": "[encoded data removed]",
      "text/plain": [
       "<Figure size 432x288 with 1 Axes>"
      ]
     },
     "metadata": {
      "needs_background": "light"
     },
     "output_type": "display_data"
    }
   ],
   "source": [
    "g = sns.barplot(x=\"high_blood_pressure\",y=\"DEATH_EVENT\",data=df)\n",
    "g.set_ylabel(\"Survival Probability\")"
   ]
  },
  {
   "cell_type": "markdown",
   "id": "9177a3ea",
   "metadata": {
    "papermill": {
     "duration": 0.058808,
     "end_time": "2021-09-23T09:29:16.631363",
     "exception": false,
     "start_time": "2021-09-23T09:29:16.572555",
     "status": "completed"
    },
    "tags": []
   },
   "source": [
    "People with high blood preasure has more chances of heart fail. Lets "
   ]
  },
  {
   "cell_type": "code",
   "execution_count": 21,
   "id": "7c5992d9",
   "metadata": {
    "execution": {
     "iopub.execute_input": "2021-09-23T09:29:16.756938Z",
     "iopub.status.busy": "2021-09-23T09:29:16.756320Z",
     "iopub.status.idle": "2021-09-23T09:29:17.216666Z",
     "shell.execute_reply": "2021-09-23T09:29:17.217214Z",
     "shell.execute_reply.started": "2021-09-23T08:19:10.209502Z"
    },
    "papermill": {
     "duration": 0.524541,
     "end_time": "2021-09-23T09:29:17.217404",
     "exception": false,
     "start_time": "2021-09-23T09:29:16.692863",
     "status": "completed"
    },
    "tags": []
   },
   "outputs": [
    {
     "data": {
      "text/plain": [
       "<seaborn.axisgrid.FacetGrid at 0x7f4c5ef74450>"
      ]
     },
     "execution_count": 21,
     "metadata": {},
     "output_type": "execute_result"
    },
    {
     "data": {
      "image/png": "[encoded data removed]",
      "text/plain": [
       "<Figure size 402.375x360 with 1 Axes>"
      ]
     },
     "metadata": {
      "needs_background": "light"
     },
     "output_type": "display_data"
    }
   ],
   "source": [
    "# Explore diabetes vs Survived by Sex\n",
    "g = sns.catplot(x=\"high_blood_pressure\", y=\"DEATH_EVENT\", hue=\"sex\", data=df,\n",
    "                    kind=\"bar\", palette=\"muted\")\n",
    "g.set_ylabels(\"survival probability\")\n",
    "g.set_xlabels(\"High Blood Preasure\")"
   ]
  },
  {
   "cell_type": "markdown",
   "id": "0fbd3d9f",
   "metadata": {
    "papermill": {
     "duration": 0.058098,
     "end_time": "2021-09-23T09:29:17.334605",
     "exception": false,
     "start_time": "2021-09-23T09:29:17.276507",
     "status": "completed"
    },
    "tags": []
   },
   "source": [
    "Female with high blood preasure has more thances of heart fails and if female does not have blood preasure then she has very less chances comparing to male"
   ]
  },
  {
   "cell_type": "markdown",
   "id": "907cf1dd",
   "metadata": {
    "papermill": {
     "duration": 0.058613,
     "end_time": "2021-09-23T09:29:17.452559",
     "exception": false,
     "start_time": "2021-09-23T09:29:17.393946",
     "status": "completed"
    },
    "tags": []
   },
   "source": [
    "**Serum Sodium / Smoking**"
   ]
  },
  {
   "cell_type": "code",
   "execution_count": 22,
   "id": "2aca2c83",
   "metadata": {
    "execution": {
     "iopub.execute_input": "2021-09-23T09:29:17.578673Z",
     "iopub.status.busy": "2021-09-23T09:29:17.574982Z",
     "iopub.status.idle": "2021-09-23T09:29:17.840356Z",
     "shell.execute_reply": "2021-09-23T09:29:17.840895Z",
     "shell.execute_reply.started": "2021-09-23T08:12:59.986859Z"
    },
    "papermill": {
     "duration": 0.329321,
     "end_time": "2021-09-23T09:29:17.841070",
     "exception": false,
     "start_time": "2021-09-23T09:29:17.511749",
     "status": "completed"
    },
    "tags": []
   },
   "outputs": [
    {
     "data": {
      "image/png": "[encoded data removed]",
      "text/plain": [
       "<Figure size 720x432 with 1 Axes>"
      ]
     },
     "metadata": {
      "needs_background": "light"
     },
     "output_type": "display_data"
    }
   ],
   "source": [
    "# Explore Serum Sodium vs Death Event vs Smoking\n",
    "\n",
    "plt.figure(figsize=(10,6))\n",
    "sns.boxplot(x=df[\"DEATH_EVENT\"], y=df['serum_sodium'], hue=df['smoking'], palette=[\"#6daa9f\",\"#774571\"])\n",
    "plt.show()"
   ]
  },
  {
   "cell_type": "markdown",
   "id": "80c2422f",
   "metadata": {
    "papermill": {
     "duration": 0.059274,
     "end_time": "2021-09-23T09:29:17.960073",
     "exception": false,
     "start_time": "2021-09-23T09:29:17.900799",
     "status": "completed"
    },
    "tags": []
   },
   "source": [
    "There is know correlation between smoking and Serum Sodium. Compared to non-smoker users, smokers had significantly increased levels of serum sodium. \n",
    "\n",
    "https://www.researchgate.net/publication/259625450_Effect_of_cigarette_smoking_on_blood_sodium_and_potassium_levels_in_sudanese_subjects\n"
   ]
  },
  {
   "cell_type": "markdown",
   "id": "7856752f",
   "metadata": {
    "papermill": {
     "duration": 0.06015,
     "end_time": "2021-09-23T09:29:18.079629",
     "exception": false,
     "start_time": "2021-09-23T09:29:18.019479",
     "status": "completed"
    },
    "tags": []
   },
   "source": [
    "**Explore Platelets vs Anemia vs Death Event**"
   ]
  },
  {
   "cell_type": "code",
   "execution_count": 23,
   "id": "b1bdf6a5",
   "metadata": {
    "execution": {
     "iopub.execute_input": "2021-09-23T09:29:18.206290Z",
     "iopub.status.busy": "2021-09-23T09:29:18.205188Z",
     "iopub.status.idle": "2021-09-23T09:29:18.466036Z",
     "shell.execute_reply": "2021-09-23T09:29:18.465421Z",
     "shell.execute_reply.started": "2021-09-23T08:15:34.136158Z"
    },
    "papermill": {
     "duration": 0.324323,
     "end_time": "2021-09-23T09:29:18.466193",
     "exception": false,
     "start_time": "2021-09-23T09:29:18.141870",
     "status": "completed"
    },
    "tags": []
   },
   "outputs": [
    {
     "data": {
      "text/plain": [
       "<AxesSubplot:xlabel='DEATH_EVENT', ylabel='platelets'>"
      ]
     },
     "execution_count": 23,
     "metadata": {},
     "output_type": "execute_result"
    },
    {
     "data": {
      "image/png": "[encoded data removed]",
      "text/plain": [
       "<Figure size 720x432 with 1 Axes>"
      ]
     },
     "metadata": {
      "needs_background": "light"
     },
     "output_type": "display_data"
    }
   ],
   "source": [
    "plt.figure(figsize=(10,6))\n",
    "sns.violinplot(data=df, x=\"DEATH_EVENT\", y=\"platelets\", hue=\"anaemia\",\n",
    "               split=True, inner=\"quart\", linewidth=1,\n",
    "               )"
   ]
  },
  {
   "cell_type": "code",
   "execution_count": 24,
   "id": "d7783345",
   "metadata": {
    "execution": {
     "iopub.execute_input": "2021-09-23T09:29:18.609397Z",
     "iopub.status.busy": "2021-09-23T09:29:18.592233Z",
     "iopub.status.idle": "2021-09-23T09:29:19.803768Z",
     "shell.execute_reply": "2021-09-23T09:29:19.804245Z",
     "shell.execute_reply.started": "2021-09-23T08:21:09.714616Z"
    },
    "papermill": {
     "duration": 1.276618,
     "end_time": "2021-09-23T09:29:19.804421",
     "exception": false,
     "start_time": "2021-09-23T09:29:18.527803",
     "status": "completed"
    },
    "tags": []
   },
   "outputs": [
    {
     "data": {
      "text/plain": [
       "<seaborn.axisgrid.FacetGrid at 0x7f4c5ec560d0>"
      ]
     },
     "execution_count": 24,
     "metadata": {},
     "output_type": "execute_result"
    },
    {
     "data": {
      "image/png": "[encoded data removed]",
      "text/plain": [
       "<Figure size 360x360 with 1 Axes>"
      ]
     },
     "metadata": {
      "needs_background": "light"
     },
     "output_type": "display_data"
    },
    {
     "data": {
      "image/png": "[encoded data removed]",
      "text/plain": [
       "<Figure size 410.25x360 with 1 Axes>"
      ]
     },
     "metadata": {
      "needs_background": "light"
     },
     "output_type": "display_data"
    },
    {
     "data": {
      "image/png": "[encoded data removed]",
      "text/plain": [
       "<Figure size 411x360 with 1 Axes>"
      ]
     },
     "metadata": {
      "needs_background": "light"
     },
     "output_type": "display_data"
    }
   ],
   "source": [
    "# Explore Age vs Sex, Parch , Pclass and SibSP\n",
    "sns.catplot(y=\"age\",x=\"sex\",data=df,kind=\"box\")\n",
    "sns.catplot(y=\"age\",x=\"sex\",hue=\"smoking\", data=df,kind=\"box\")\n",
    "sns.catplot(y=\"age\",x=\"sex\",hue=\"diabetes\", data=df,kind=\"box\")"
   ]
  },
  {
   "cell_type": "markdown",
   "id": "f828b90c",
   "metadata": {
    "papermill": {
     "duration": 0.063075,
     "end_time": "2021-09-23T09:29:19.931803",
     "exception": false,
     "start_time": "2021-09-23T09:29:19.868728",
     "status": "completed"
    },
    "tags": []
   },
   "source": [
    "# 5. Feature engineering"
   ]
  },
  {
   "cell_type": "markdown",
   "id": "189528bf",
   "metadata": {
    "papermill": {
     "duration": 0.06353,
     "end_time": "2021-09-23T09:29:20.058836",
     "exception": false,
     "start_time": "2021-09-23T09:29:19.995306",
     "status": "completed"
    },
    "tags": []
   },
   "source": [
    "# <font size=\"4\">5.1 Create Categorical Values</font>"
   ]
  },
  {
   "cell_type": "code",
   "execution_count": 25,
   "id": "e49c9e47",
   "metadata": {
    "execution": {
     "iopub.execute_input": "2021-09-23T09:29:20.191053Z",
     "iopub.status.busy": "2021-09-23T09:29:20.190399Z",
     "iopub.status.idle": "2021-09-23T09:29:20.210523Z",
     "shell.execute_reply": "2021-09-23T09:29:20.209961Z",
     "shell.execute_reply.started": "2021-09-23T08:40:13.480922Z"
    },
    "papermill": {
     "duration": 0.087366,
     "end_time": "2021-09-23T09:29:20.210684",
     "exception": false,
     "start_time": "2021-09-23T09:29:20.123318",
     "status": "completed"
    },
    "tags": []
   },
   "outputs": [],
   "source": [
    "df = pd.get_dummies(df, columns = [\"anaemia\"], prefix=\"ena\")\n",
    "df = pd.get_dummies(df, columns = [\"diabetes\"], prefix=\"dia\")\n",
    "df = pd.get_dummies(df, columns = [\"high_blood_pressure\"], prefix=\"hbp\")\n",
    "df = pd.get_dummies(df, columns = [\"sex\"], prefix=\"sex\")\n",
    "df = pd.get_dummies(df, columns = [\"smoking\"], prefix=\"smk\")"
   ]
  },
  {
   "cell_type": "code",
   "execution_count": 26,
   "id": "f887adc3",
   "metadata": {
    "execution": {
     "iopub.execute_input": "2021-09-23T09:29:20.342290Z",
     "iopub.status.busy": "2021-09-23T09:29:20.341353Z",
     "iopub.status.idle": "2021-09-23T09:29:20.350459Z",
     "shell.execute_reply": "2021-09-23T09:29:20.350919Z",
     "shell.execute_reply.started": "2021-09-23T08:42:18.855228Z"
    },
    "papermill": {
     "duration": 0.076532,
     "end_time": "2021-09-23T09:29:20.351081",
     "exception": false,
     "start_time": "2021-09-23T09:29:20.274549",
     "status": "completed"
    },
    "tags": []
   },
   "outputs": [
    {
     "data": {
      "text/plain": [
       "250    7\n",
       "187    7\n",
       "10     6\n",
       "186    6\n",
       "107    6\n",
       "      ..\n",
       "97     1\n",
       "96     1\n",
       "86     1\n",
       "77     1\n",
       "285    1\n",
       "Name: time, Length: 148, dtype: int64"
      ]
     },
     "execution_count": 26,
     "metadata": {},
     "output_type": "execute_result"
    }
   ],
   "source": [
    "df.time.value_counts()"
   ]
  },
  {
   "cell_type": "markdown",
   "id": "6390d9fd",
   "metadata": {
    "papermill": {
     "duration": 0.063188,
     "end_time": "2021-09-23T09:29:20.477952",
     "exception": false,
     "start_time": "2021-09-23T09:29:20.414764",
     "status": "completed"
    },
    "tags": []
   },
   "source": [
    "# 6. Modeling"
   ]
  },
  {
   "cell_type": "markdown",
   "id": "a679ee0b",
   "metadata": {
    "papermill": {
     "duration": 0.063916,
     "end_time": "2021-09-23T09:29:20.605219",
     "exception": false,
     "start_time": "2021-09-23T09:29:20.541303",
     "status": "completed"
    },
    "tags": []
   },
   "source": [
    "# <font size=\"4\">6.1 Data Splitting</font>\n"
   ]
  },
  {
   "cell_type": "code",
   "execution_count": 27,
   "id": "55590c9f",
   "metadata": {
    "execution": {
     "iopub.execute_input": "2021-09-23T09:29:20.738323Z",
     "iopub.status.busy": "2021-09-23T09:29:20.737333Z",
     "iopub.status.idle": "2021-09-23T09:29:20.747354Z",
     "shell.execute_reply": "2021-09-23T09:29:20.746771Z",
     "shell.execute_reply.started": "2021-09-23T09:08:55.100881Z"
    },
    "papermill": {
     "duration": 0.077513,
     "end_time": "2021-09-23T09:29:20.747505",
     "exception": false,
     "start_time": "2021-09-23T09:29:20.669992",
     "status": "completed"
    },
    "tags": []
   },
   "outputs": [],
   "source": [
    "## Separate train dataset and test dataset\n",
    "features = df.drop([\"DEATH_EVENT\"], axis=1)\n",
    "labels = df[\"DEATH_EVENT\"]\n",
    "x_train, x_test, y_train, y_test = train_test_split(features, labels, test_size=0.30, random_state=7)"
   ]
  },
  {
   "cell_type": "markdown",
   "id": "7ed84b1b",
   "metadata": {
    "papermill": {
     "duration": 0.063725,
     "end_time": "2021-09-23T09:29:20.876052",
     "exception": false,
     "start_time": "2021-09-23T09:29:20.812327",
     "status": "completed"
    },
    "tags": []
   },
   "source": [
    "# <font size=\"4\">6.2 Cross Validate Models</font>\n"
   ]
  },
  {
   "cell_type": "markdown",
   "id": "cda72439",
   "metadata": {
    "papermill": {
     "duration": 0.064155,
     "end_time": "2021-09-23T09:29:21.003725",
     "exception": false,
     "start_time": "2021-09-23T09:29:20.939570",
     "status": "completed"
    },
    "tags": []
   },
   "source": [
    "I compared 7 most popular classification models and evaluate the mean accuracy by kfold cross validation procedure\n",
    "\n",
    "* Logistic regression\n",
    "* Decision Tree\n",
    "* AdaBoost\n",
    "* SVC\n",
    "* Random Forest\n",
    "* Gradient Boosting\n",
    "* KNN\n",
    "\n"
   ]
  },
  {
   "cell_type": "code",
   "execution_count": 28,
   "id": "795f7c7b",
   "metadata": {
    "execution": {
     "iopub.execute_input": "2021-09-23T09:29:21.135667Z",
     "iopub.status.busy": "2021-09-23T09:29:21.134661Z",
     "iopub.status.idle": "2021-09-23T09:29:21.144077Z",
     "shell.execute_reply": "2021-09-23T09:29:21.143558Z",
     "shell.execute_reply.started": "2021-09-23T09:14:07.970928Z"
    },
    "papermill": {
     "duration": 0.077002,
     "end_time": "2021-09-23T09:29:21.144261",
     "exception": false,
     "start_time": "2021-09-23T09:29:21.067259",
     "status": "completed"
    },
    "tags": []
   },
   "outputs": [],
   "source": [
    "def evaluate_model(models):\n",
    "    \"\"\"\n",
    "    Takes a list of models and returns chart of cross validation scores using mean accuracy\n",
    "    \"\"\"\n",
    "    \n",
    "    # Cross validate model with Kfold stratified cross val\n",
    "    kfold = StratifiedKFold(n_splits = 10)\n",
    "    \n",
    "    result = []\n",
    "    for model in models :\n",
    "        result.append(cross_val_score(model, x_train, y = y_train, scoring = \"accuracy\", cv = kfold, n_jobs=4))\n",
    "\n",
    "    cv_means = []\n",
    "    cv_std = []\n",
    "    for cv_result in result:\n",
    "        cv_means.append(cv_result.mean())\n",
    "        cv_std.append(cv_result.std())\n",
    "\n",
    "    result_df = pd.DataFrame({\n",
    "        \"CrossValMeans\":cv_means,\n",
    "        \"CrossValerrors\": cv_std,\n",
    "        \"Models\":[\n",
    "            \"LogisticRegression\",\n",
    "            \"DecisionTreeClassifier\",\n",
    "            \"AdaBoostClassifier\",\n",
    "            \"SVC\",\n",
    "            \"RandomForestClassifier\",\n",
    "            \"GradientBoostingClassifier\",\n",
    "            \"KNeighborsClassifier\"\n",
    "        ]\n",
    "    })\n",
    "\n",
    "    # Generate chart\n",
    "    bar = sns.barplot(x = \"CrossValMeans\", y = \"Models\", data = result_df, orient = \"h\")\n",
    "    bar.set_xlabel(\"Mean Accuracy\")\n",
    "    bar.set_title(\"Cross validation scores\")\n",
    "    return result_df"
   ]
  },
  {
   "cell_type": "code",
   "execution_count": 29,
   "id": "c03a26b2",
   "metadata": {
    "execution": {
     "iopub.execute_input": "2021-09-23T09:29:21.279091Z",
     "iopub.status.busy": "2021-09-23T09:29:21.278241Z",
     "iopub.status.idle": "2021-09-23T09:29:25.574009Z",
     "shell.execute_reply": "2021-09-23T09:29:25.574531Z",
     "shell.execute_reply.started": "2021-09-23T09:14:09.865042Z"
    },
    "papermill": {
     "duration": 4.367141,
     "end_time": "2021-09-23T09:29:25.574707",
     "exception": false,
     "start_time": "2021-09-23T09:29:21.207566",
     "status": "completed"
    },
    "tags": []
   },
   "outputs": [
    {
     "data": {
      "text/html": [
       "<div>\n",
       "<style scoped>\n",
       "    .dataframe tbody tr th:only-of-type {\n",
       "        vertical-align: middle;\n",
       "    }\n",
       "\n",
       "    .dataframe tbody tr th {\n",
       "        vertical-align: top;\n",
       "    }\n",
       "\n",
       "    .dataframe thead th {\n",
       "        text-align: right;\n",
       "    }\n",
       "</style>\n",
       "<table border=\"1\" class=\"dataframe\">\n",
       "  <thead>\n",
       "    <tr style=\"text-align: right;\">\n",
       "      <th></th>\n",
       "      <th>CrossValMeans</th>\n",
       "      <th>CrossValerrors</th>\n",
       "      <th>Models</th>\n",
       "    </tr>\n",
       "  </thead>\n",
       "  <tbody>\n",
       "    <tr>\n",
       "      <th>0</th>\n",
       "      <td>0.804286</td>\n",
       "      <td>0.095818</td>\n",
       "      <td>LogisticRegression</td>\n",
       "    </tr>\n",
       "    <tr>\n",
       "      <th>1</th>\n",
       "      <td>0.760238</td>\n",
       "      <td>0.046438</td>\n",
       "      <td>DecisionTreeClassifier</td>\n",
       "    </tr>\n",
       "    <tr>\n",
       "      <th>2</th>\n",
       "      <td>0.784524</td>\n",
       "      <td>0.044686</td>\n",
       "      <td>AdaBoostClassifier</td>\n",
       "    </tr>\n",
       "    <tr>\n",
       "      <th>3</th>\n",
       "      <td>0.660238</td>\n",
       "      <td>0.014602</td>\n",
       "      <td>SVC</td>\n",
       "    </tr>\n",
       "    <tr>\n",
       "      <th>4</th>\n",
       "      <td>0.799048</td>\n",
       "      <td>0.073086</td>\n",
       "      <td>RandomForestClassifier</td>\n",
       "    </tr>\n",
       "    <tr>\n",
       "      <th>5</th>\n",
       "      <td>0.798571</td>\n",
       "      <td>0.077899</td>\n",
       "      <td>GradientBoostingClassifier</td>\n",
       "    </tr>\n",
       "    <tr>\n",
       "      <th>6</th>\n",
       "      <td>0.660714</td>\n",
       "      <td>0.067185</td>\n",
       "      <td>KNeighborsClassifier</td>\n",
       "    </tr>\n",
       "  </tbody>\n",
       "</table>\n",
       "</div>"
      ],
      "text/plain": [
       "   CrossValMeans  CrossValerrors                      Models\n",
       "0       0.804286        0.095818          LogisticRegression\n",
       "1       0.760238        0.046438      DecisionTreeClassifier\n",
       "2       0.784524        0.044686          AdaBoostClassifier\n",
       "3       0.660238        0.014602                         SVC\n",
       "4       0.799048        0.073086      RandomForestClassifier\n",
       "5       0.798571        0.077899  GradientBoostingClassifier\n",
       "6       0.660714        0.067185        KNeighborsClassifier"
      ]
     },
     "execution_count": 29,
     "metadata": {},
     "output_type": "execute_result"
    },
    {
     "data": {
      "image/png": "[encoded data removed]",
      "text/plain": [
       "<Figure size 432x288 with 1 Axes>"
      ]
     },
     "metadata": {
      "needs_background": "light"
     },
     "output_type": "display_data"
    }
   ],
   "source": [
    "# Modeling step Test differents algorithms \n",
    "random_state = 30\n",
    "models = [\n",
    "    LogisticRegression(random_state = random_state),\n",
    "    DecisionTreeClassifier(random_state = random_state),\n",
    "    AdaBoostClassifier(DecisionTreeClassifier(random_state = random_state), random_state = random_state, learning_rate = 0.2),\n",
    "    SVC(random_state = random_state),\n",
    "    RandomForestClassifier(random_state = random_state),\n",
    "    GradientBoostingClassifier(random_state = random_state),\n",
    "    KNeighborsClassifier(),\n",
    "]\n",
    "evaluate_model(models)"
   ]
  },
  {
   "cell_type": "markdown",
   "id": "5a276517",
   "metadata": {
    "papermill": {
     "duration": 0.064622,
     "end_time": "2021-09-23T09:29:25.705613",
     "exception": false,
     "start_time": "2021-09-23T09:29:25.640991",
     "status": "completed"
    },
    "tags": []
   },
   "source": [
    "On the base of validation scores, I decided to go with LogisticRegression, RandomForest, GradientBoosting , and DecisionTree classifiers for the ensemble modeling\n",
    "\n"
   ]
  },
  {
   "cell_type": "markdown",
   "id": "67a17840",
   "metadata": {
    "papermill": {
     "duration": 0.064716,
     "end_time": "2021-09-23T09:29:25.835581",
     "exception": false,
     "start_time": "2021-09-23T09:29:25.770865",
     "status": "completed"
    },
    "tags": []
   },
   "source": [
    "# <font size=\"4\">6.3 Hyperparameter tunning for selected models</font>\n"
   ]
  },
  {
   "cell_type": "markdown",
   "id": "1f042eed",
   "metadata": {
    "papermill": {
     "duration": 0.065555,
     "end_time": "2021-09-23T09:29:25.966754",
     "exception": false,
     "start_time": "2021-09-23T09:29:25.901199",
     "status": "completed"
    },
    "tags": []
   },
   "source": [
    "To be continued..."
   ]
  },
  {
   "cell_type": "markdown",
   "id": "63a0646a",
   "metadata": {
    "papermill": {
     "duration": 0.065622,
     "end_time": "2021-09-23T09:29:26.097570",
     "exception": false,
     "start_time": "2021-09-23T09:29:26.031948",
     "status": "completed"
    },
    "tags": []
   },
   "source": [
    "Please upvote and share my notebook if you find it useful - It keeps me motivated :)"
   ]
  }
 ],
 "metadata": {
  "kernelspec": {
   "display_name": "Python 3",
   "language": "python",
   "name": "python3"
  },
  "language_info": {
   "codemirror_mode": {
    "name": "ipython",
    "version": 3
   },
   "file_extension": ".py",
   "mimetype": "text/x-python",
   "name": "python",
   "nbconvert_exporter": "python",
   "pygments_lexer": "ipython3",
   "version": "3.7.10"
  },
  "papermill": {
   "default_parameters": {},
   "duration": 28.75711,
   "end_time": "2021-09-23T09:29:27.616751",
   "environment_variables": {},
   "exception": null,
   "input_path": "__notebook__.ipynb",
   "output_path": "__notebook__.ipynb",
   "parameters": {},
   "start_time": "2021-09-23T09:28:58.859641",
   "version": "2.3.3"
  }
 },
 "nbformat": 4,
 "nbformat_minor": 5
}
